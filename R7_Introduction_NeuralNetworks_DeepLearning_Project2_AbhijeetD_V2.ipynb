{
  "nbformat": 4,
  "nbformat_minor": 0,
  "metadata": {
    "colab": {
      "name": "R7_Introduction_NeuralNetworks_DeepLearning_Project2_AbhijeetD-V2.ipynb",
      "provenance": []
    },
    "kernelspec": {
      "name": "python3",
      "display_name": "Python 3"
    }
  },
  "cells": [
    {
      "cell_type": "markdown",
      "metadata": {
        "id": "hmdubQFeGqy_",
        "colab_type": "text"
      },
      "source": [
        "## Introduction_to_Neural_Networks_and_Deep_Learning_R7_Project2\n"
      ]
    },
    {
      "cell_type": "markdown",
      "metadata": {
        "id": "Cbp8sOFtGmpr",
        "colab_type": "text"
      },
      "source": [
        "The objective of the project is to learn how to implement a simple image classification pipeline based on the k-Nearest Neighbour and a deep neural network. The goals of this assignment are as follows:\n",
        "\n",
        "1 - Understand the basic Image Classification pipeline and the data-driven approach (train/predict stages)\n",
        "\n",
        "2 - Data fetching and understand the train/val/test splits.\n",
        "\n",
        "3 - Implement and apply an optimal k-Nearest Neighbor (kNN) classifier (7.5 points)\n",
        "\n",
        "4 - Print the classification metric report (2.5 points)\n",
        "\n",
        "5 - Implement and apply a deep neural network classifier including (feedforward neural network, RELU activations) (5 points)\n",
        "\n",
        "6 - Understand and be able to implement (vectorized) backpropagation (cost stochastic gradient descent, cross entropy loss, cost functions) (2.5 points)\n",
        "\n",
        "7 - Implement batch normalization for training the neural network (2.5 points)● Understand the differences and trade-offs between traditional and NN classifiers with the help of classification metrics (5 points)"
      ]
    },
    {
      "cell_type": "code",
      "metadata": {
        "id": "wk7-x0VJY8M9",
        "colab_type": "code",
        "colab": {}
      },
      "source": [
        "!pip install -U -q PyDrive\n",
        "from pydrive.auth import GoogleAuth\n",
        "from pydrive.drive import GoogleDrive\n",
        "from google.colab import auth\n",
        "from oauth2client.client import GoogleCredentials"
      ],
      "execution_count": 0,
      "outputs": []
    },
    {
      "cell_type": "markdown",
      "metadata": {
        "id": "9Xm11hK3LlGw",
        "colab_type": "text"
      },
      "source": [
        ""
      ]
    },
    {
      "cell_type": "code",
      "metadata": {
        "id": "w4_45ah4ZH2J",
        "colab_type": "code",
        "colab": {}
      },
      "source": [
        "auth.authenticate_user()\n",
        "gauth = GoogleAuth()\n",
        "gauth.credentials = GoogleCredentials.get_application_default()\n",
        "drive = GoogleDrive(gauth)"
      ],
      "execution_count": 0,
      "outputs": []
    },
    {
      "cell_type": "code",
      "metadata": {
        "id": "6K9ERo65aJIR",
        "colab_type": "code",
        "colab": {}
      },
      "source": [
        "\n",
        "import pandas as pd\n",
        "import h5py\n",
        "import numpy as np"
      ],
      "execution_count": 0,
      "outputs": []
    },
    {
      "cell_type": "code",
      "metadata": {
        "id": "KOAylV9aaQWm",
        "colab_type": "code",
        "colab": {
          "base_uri": "https://localhost:8080/",
          "height": 125
        },
        "outputId": "8d2a2676-7697-4257-9029-414eaaf95f50"
      },
      "source": [
        "from google.colab import drive\n",
        "drive.mount('/content/gdrive')"
      ],
      "execution_count": 4,
      "outputs": [
        {
          "output_type": "stream",
          "text": [
            "Go to this URL in a browser: https://accounts.google.com/o/oauth2/auth?client_id=947318989803-6bn6qk8qdgf4n4g3pfee6491hc0brc4i.apps.googleusercontent.com&redirect_uri=urn%3aietf%3awg%3aoauth%3a2.0%3aoob&response_type=code&scope=email%20https%3a%2f%2fwww.googleapis.com%2fauth%2fdocs.test%20https%3a%2f%2fwww.googleapis.com%2fauth%2fdrive%20https%3a%2f%2fwww.googleapis.com%2fauth%2fdrive.photos.readonly%20https%3a%2f%2fwww.googleapis.com%2fauth%2fpeopleapi.readonly\n",
            "\n",
            "Enter your authorization code:\n",
            "··········\n",
            "Mounted at /content/gdrive\n"
          ],
          "name": "stdout"
        }
      ]
    },
    {
      "cell_type": "code",
      "metadata": {
        "id": "HphpZ8eTliKF",
        "colab_type": "code",
        "colab": {}
      },
      "source": [
        "f = h5py.File('/content/gdrive/My Drive/AIML/DeepLearning/SVHN_single_grey1.h5', 'r')"
      ],
      "execution_count": 0,
      "outputs": []
    },
    {
      "cell_type": "code",
      "metadata": {
        "id": "8-SAYjAxkRG_",
        "colab_type": "code",
        "outputId": "45a5fb94-d32c-42ac-af91-65187b94d812",
        "colab": {
          "base_uri": "https://localhost:8080/",
          "height": 34
        }
      },
      "source": [
        "# List all groups \n",
        "print(\"Keys: %s\" % f.keys())\n",
        "a_group_key = list(f.keys())[0]"
      ],
      "execution_count": 21,
      "outputs": [
        {
          "output_type": "stream",
          "text": [
            "Keys: KeysView(<HDF5 file \"SVHN_single_grey1.h5\" (mode r)>)\n"
          ],
          "name": "stdout"
        }
      ]
    },
    {
      "cell_type": "code",
      "metadata": {
        "id": "9WsE6ZbWl8RH",
        "colab_type": "code",
        "colab": {}
      },
      "source": [
        "# Get the data\n",
        "X_test = np.array(f[list(f.keys())[0]])\n",
        "X_train = np.array(f[list(f.keys())[1]])\n",
        "X_val = np.array(f[list(f.keys())[2]])\n",
        "y_test = np.array(f[list(f.keys())[3]])\n",
        "y_train = np.array(f[list(f.keys())[4]])\n",
        "y_val = np.array(f[list(f.keys())[5]])"
      ],
      "execution_count": 0,
      "outputs": []
    },
    {
      "cell_type": "code",
      "metadata": {
        "id": "PhbM14Yal_I9",
        "colab_type": "code",
        "outputId": "1c920f24-9fda-44e1-df55-e84e62734435",
        "colab": {
          "base_uri": "https://localhost:8080/",
          "height": 123
        }
      },
      "source": [
        "print(\"X_test Shape: \", X_test.shape)\n",
        "print(\"X_train Shape: \", X_train.shape)\n",
        "print(\"X_val Shape: \", X_val.shape)\n",
        "print(\"y_test Shape: \", y_test.shape)\n",
        "print(\"y_train Shape: \", y_train.shape)\n",
        "print(\"y_val Shape: \", y_val.shape)"
      ],
      "execution_count": 23,
      "outputs": [
        {
          "output_type": "stream",
          "text": [
            "X_test Shape:  (18000, 32, 32)\n",
            "X_train Shape:  (42000, 32, 32)\n",
            "X_val Shape:  (60000, 32, 32)\n",
            "y_test Shape:  (18000,)\n",
            "y_train Shape:  (42000,)\n",
            "y_val Shape:  (60000,)\n"
          ],
          "name": "stdout"
        }
      ]
    },
    {
      "cell_type": "code",
      "metadata": {
        "id": "hMaFY15xnwm-",
        "colab_type": "code",
        "outputId": "bbab6f12-45a2-4411-e9e8-42b6c86b4d96",
        "colab": {
          "base_uri": "https://localhost:8080/",
          "height": 34
        }
      },
      "source": [
        "print(\"Number of Classes in y_test:{}, y_train:{}, y_val:{}\".format(len(np.unique(y_test)),\n",
        "                                                                    len(np.unique(y_train)), len(np.unique(y_val))))"
      ],
      "execution_count": 24,
      "outputs": [
        {
          "output_type": "stream",
          "text": [
            "Number of Classes in y_test:10, y_train:10, y_val:10\n"
          ],
          "name": "stdout"
        }
      ]
    },
    {
      "cell_type": "code",
      "metadata": {
        "id": "G5HMmzF_n7WD",
        "colab_type": "code",
        "colab": {}
      },
      "source": [
        "import tensorflow as tf\n",
        "#Subsample the data for more efficient code execution in this exercise\n",
        "num_training =  5000\n",
        "mask = range(num_training)\n",
        "X_train = X_train[mask]\n",
        "trainY = y_train[mask]\n",
        "\n",
        "num_val = 1000\n",
        "mask = range(num_val)\n",
        "X_val = X_val[mask]\n",
        "valY = y_val[mask]\n",
        "\n",
        "num_test = 1000\n",
        "mask = range(num_test)\n",
        "X_test = X_test[mask]\n",
        "testY = y_test[mask]"
      ],
      "execution_count": 0,
      "outputs": []
    },
    {
      "cell_type": "code",
      "metadata": {
        "id": "F7FeOgBioEe1",
        "colab_type": "code",
        "outputId": "962893a7-30f0-42db-a869-e5b56b52cee7",
        "colab": {
          "base_uri": "https://localhost:8080/",
          "height": 52
        }
      },
      "source": [
        "print(trainY.shape)\n",
        "print('First 2 examples now are: ', trainY[0:2])"
      ],
      "execution_count": 26,
      "outputs": [
        {
          "output_type": "stream",
          "text": [
            "(5000,)\n",
            "First 2 examples now are:  [2 6]\n"
          ],
          "name": "stdout"
        }
      ]
    },
    {
      "cell_type": "code",
      "metadata": {
        "id": "97PTKaWmoJlz",
        "colab_type": "code",
        "colab": {}
      },
      "source": [
        "from sklearn.neighbors import KNeighborsClassifier \n",
        "from imutils import paths\n",
        "import numpy as np\n",
        "import argparse\n",
        "import imutils\n",
        "import cv2\n",
        "import os\n",
        "import matplotlib.pyplot as plt\n",
        "%matplotlib inline"
      ],
      "execution_count": 0,
      "outputs": []
    },
    {
      "cell_type": "code",
      "metadata": {
        "id": "hioFPhz-oM2h",
        "colab_type": "code",
        "outputId": "74a6b2eb-f8e6-43aa-a9d2-af4effa98b0f",
        "colab": {
          "base_uri": "https://localhost:8080/",
          "height": 283
        }
      },
      "source": [
        "# Display digit 7\n",
        "plt.imshow(X_train[2], cmap=plt.cm.gray_r, interpolation='nearest')"
      ],
      "execution_count": 28,
      "outputs": [
        {
          "output_type": "execute_result",
          "data": {
            "text/plain": [
              "<matplotlib.image.AxesImage at 0x7ffafbee5390>"
            ]
          },
          "metadata": {
            "tags": []
          },
          "execution_count": 28
        },
        {
          "output_type": "display_data",
          "data": {
            "image/png": "[encoded data removed]",
            "text/plain": [
              "<Figure size 432x288 with 1 Axes>"
            ]
          },
          "metadata": {
            "tags": []
          }
        }
      ]
    },
    {
      "cell_type": "code",
      "metadata": {
        "id": "wD1bno6IoP4E",
        "colab_type": "code",
        "outputId": "ada2611b-bf47-4095-f315-d8987827bd5c",
        "colab": {
          "base_uri": "https://localhost:8080/",
          "height": 123
        }
      },
      "source": [
        "print(\"X_test Shape: \", X_test.shape)\n",
        "print(\"X_train Shape: \", X_train.shape)\n",
        "print(\"X_val Shape: \", X_val.shape)\n",
        "print(\"y_test Shape: \", testY.shape)\n",
        "print(\"y_train Shape: \", trainY.shape)\n",
        "print(\"y_val Shape: \", valY.shape)"
      ],
      "execution_count": 29,
      "outputs": [
        {
          "output_type": "stream",
          "text": [
            "X_test Shape:  (1000, 32, 32)\n",
            "X_train Shape:  (5000, 32, 32)\n",
            "X_val Shape:  (1000, 32, 32)\n",
            "y_test Shape:  (1000,)\n",
            "y_train Shape:  (5000,)\n",
            "y_val Shape:  (1000,)\n"
          ],
          "name": "stdout"
        }
      ]
    },
    {
      "cell_type": "code",
      "metadata": {
        "id": "wHlQAOGDoTMm",
        "colab_type": "code",
        "colab": {}
      },
      "source": [
        "# Reshape the image data into rows\n",
        "X_train_reshaped = np.reshape(X_train, (X_train.shape[0], -1))\n",
        "X_test_reshaped = np.reshape(X_test, (X_test.shape[0], -1))\n",
        "X_val_reshaped = np.reshape(X_val, (X_val.shape[0], -1))"
      ],
      "execution_count": 0,
      "outputs": []
    },
    {
      "cell_type": "code",
      "metadata": {
        "id": "tjbHPV6PoWTg",
        "colab_type": "code",
        "outputId": "1debe0be-e88b-4109-9a73-e4bdfe46bd03",
        "colab": {
          "base_uri": "https://localhost:8080/",
          "height": 70
        }
      },
      "source": [
        "print(X_train_reshaped.shape)\n",
        "print(X_test_reshaped.shape)\n",
        "print(X_val_reshaped.shape)"
      ],
      "execution_count": 31,
      "outputs": [
        {
          "output_type": "stream",
          "text": [
            "(5000, 1024)\n",
            "(1000, 1024)\n",
            "(1000, 1024)\n"
          ],
          "name": "stdout"
        }
      ]
    },
    {
      "cell_type": "code",
      "metadata": {
        "id": "nJqqZiHooaZ4",
        "colab_type": "code",
        "colab": {}
      },
      "source": [
        "# Create a k-NN classifier with 10 neighbors: knn\n",
        "knn = KNeighborsClassifier(n_neighbors = 10)"
      ],
      "execution_count": 0,
      "outputs": []
    },
    {
      "cell_type": "code",
      "metadata": {
        "id": "DguQdOQIodOJ",
        "colab_type": "code",
        "outputId": "09b3fd27-52b7-4bee-fbfa-1b29d7153239",
        "colab": {
          "base_uri": "https://localhost:8080/",
          "height": 70
        }
      },
      "source": [
        "# Fit the classifier to the training data\n",
        "knn.fit(X_train_reshaped, trainY)"
      ],
      "execution_count": 33,
      "outputs": [
        {
          "output_type": "execute_result",
          "data": {
            "text/plain": [
              "KNeighborsClassifier(algorithm='auto', leaf_size=30, metric='minkowski',\n",
              "                     metric_params=None, n_jobs=None, n_neighbors=10, p=2,\n",
              "                     weights='uniform')"
            ]
          },
          "metadata": {
            "tags": []
          },
          "execution_count": 33
        }
      ]
    },
    {
      "cell_type": "code",
      "metadata": {
        "id": "vyBQXOvxogA8",
        "colab_type": "code",
        "outputId": "944fa7ad-d778-4af1-df5f-1b1892960d29",
        "colab": {
          "base_uri": "https://localhost:8080/",
          "height": 34
        }
      },
      "source": [
        "# Print the accuracy\n",
        "print(\"Accuracy with k = 10: \", knn.score(X_val_reshaped, valY)*100, '%')"
      ],
      "execution_count": 34,
      "outputs": [
        {
          "output_type": "stream",
          "text": [
            "Accuracy with k = 10:  54.1 %\n"
          ],
          "name": "stdout"
        }
      ]
    },
    {
      "cell_type": "code",
      "metadata": {
        "id": "DtyjwQxsoiwy",
        "colab_type": "code",
        "colab": {}
      },
      "source": [
        "#Very poor Accuracy"
      ],
      "execution_count": 0,
      "outputs": []
    },
    {
      "cell_type": "code",
      "metadata": {
        "id": "I7t0RN6nooek",
        "colab_type": "code",
        "outputId": "48ef1219-bc37-426a-ee8f-7a16e322e542",
        "colab": {
          "base_uri": "https://localhost:8080/",
          "height": 212
        }
      },
      "source": [
        "# initialize the values of k for our k-Nearest Neighbor classifier along with the\n",
        "# list of accuracies for each value of k\n",
        "kVals = range(1, 30, 2)\n",
        "accuracies = []\n",
        " \n",
        "# loop over various values of `k` for the k-Nearest Neighbor classifier\n",
        "for k in range(1, 20, 2):\n",
        "    # train the k-Nearest Neighbor classifier with the current value of `k`\n",
        "    model = KNeighborsClassifier(n_neighbors=k)\n",
        "    model.fit(X_train_reshaped, trainY)\n",
        " \n",
        "    # evaluate the model and update the accuracies list\n",
        "    score = model.score(X_val_reshaped, valY)\n",
        "    print(\"k=%d, accuracy=%.2f%%\" % (k, score * 100))\n",
        "    accuracies.append(score)\n",
        " \n",
        "# find the value of k that has the largest accuracy\n",
        "i = int(np.argmax(accuracies))\n",
        "print(\"k=%d achieved highest accuracy of %.2f%% on validation data\" % (kVals[i],\n",
        "accuracies[i] * 100))"
      ],
      "execution_count": 36,
      "outputs": [
        {
          "output_type": "stream",
          "text": [
            "k=1, accuracy=42.20%\n",
            "k=3, accuracy=61.50%\n",
            "k=5, accuracy=56.80%\n",
            "k=7, accuracy=53.70%\n",
            "k=9, accuracy=55.30%\n",
            "k=11, accuracy=53.70%\n",
            "k=13, accuracy=52.30%\n",
            "k=15, accuracy=54.10%\n",
            "k=17, accuracy=54.00%\n",
            "k=19, accuracy=51.00%\n",
            "k=3 achieved highest accuracy of 61.50% on validation data\n"
          ],
          "name": "stdout"
        }
      ]
    },
    {
      "cell_type": "code",
      "metadata": {
        "id": "UrFSIgProtsk",
        "colab_type": "code",
        "outputId": "2ad44f49-1033-4813-e4f7-6ccb1d3c9ec0",
        "colab": {
          "base_uri": "https://localhost:8080/",
          "height": 336
        }
      },
      "source": [
        "from sklearn.metrics import classification_report\n",
        "# re-train our classifier using the best k value and predict the labels of the\n",
        "# test data\n",
        "model = KNeighborsClassifier(n_neighbors=3)\n",
        "model.fit(X_train_reshaped, trainY)\n",
        "predictions = model.predict(X_test_reshaped)\n",
        " \n",
        "# show a final classification report demonstrating the accuracy of the classifier\n",
        "# for each of the digits\n",
        "print(\"EVALUATION ON TESTING DATA\")\n",
        "print(classification_report(testY, predictions))"
      ],
      "execution_count": 37,
      "outputs": [
        {
          "output_type": "stream",
          "text": [
            "EVALUATION ON TESTING DATA\n",
            "              precision    recall  f1-score   support\n",
            "\n",
            "           0       0.30      0.63      0.41       117\n",
            "           1       0.29      0.61      0.39        93\n",
            "           2       0.28      0.38      0.33        92\n",
            "           3       0.25      0.25      0.25        85\n",
            "           4       0.51      0.43      0.47        96\n",
            "           5       0.35      0.21      0.26       105\n",
            "           6       0.33      0.22      0.27        94\n",
            "           7       0.72      0.46      0.56       107\n",
            "           8       0.48      0.16      0.24       100\n",
            "           9       0.41      0.17      0.24       111\n",
            "\n",
            "    accuracy                           0.36      1000\n",
            "   macro avg       0.39      0.35      0.34      1000\n",
            "weighted avg       0.40      0.35      0.34      1000\n",
            "\n"
          ],
          "name": "stdout"
        }
      ]
    },
    {
      "cell_type": "code",
      "metadata": {
        "id": "xJ1NYNtBpNlE",
        "colab_type": "code",
        "outputId": "04295eea-f823-4267-940b-4618fa7f8883",
        "colab": {
          "base_uri": "https://localhost:8080/",
          "height": 1000
        }
      },
      "source": [
        "from sklearn import datasets\n",
        "from skimage import exposure\n",
        "import numpy as np\n",
        "import imutils\n",
        "import cv2\n",
        "# loop over a few random digits\n",
        "for i in list(map(int, np.random.randint(0, high=len(testY), size=(5,)))):\n",
        "    # grab the image and classify it\n",
        "    image = X_test[i]\n",
        "    prediction = model.predict(image.reshape(1, -1))[0]\n",
        " \n",
        "    # convert the image for a 1024-dim array to an 32 x 32 image,\n",
        "    # then resize it to 32 x 32 pixels so we can see it better\n",
        "    image = image.reshape((32, 32)).astype(\"uint8\")\n",
        "    image = exposure.rescale_intensity(image, out_range=(0, 255))\n",
        "    image = imutils.resize(image, width=32, inter=cv2.INTER_CUBIC)\n",
        " \n",
        "    # show the prediction\n",
        "    print(\"I think that digit for i - {} is: {}\".format(i, prediction))\n",
        "    plt.imshow(X_train[i], cmap=plt.cm.gray_r, interpolation='nearest')\n",
        "    plt.show()"
      ],
      "execution_count": 38,
      "outputs": [
        {
          "output_type": "stream",
          "text": [
            "I think that digit for i - 575 is: 4\n"
          ],
          "name": "stdout"
        },
        {
          "output_type": "display_data",
          "data": {
            "image/png": "[encoded data removed]",
            "text/plain": [
              "<Figure size 432x288 with 1 Axes>"
            ]
          },
          "metadata": {
            "tags": []
          }
        },
        {
          "output_type": "stream",
          "text": [
            "I think that digit for i - 298 is: 0\n"
          ],
          "name": "stdout"
        },
        {
          "output_type": "display_data",
          "data": {
            "image/png": "[encoded data removed]",
            "text/plain": [
              "<Figure size 432x288 with 1 Axes>"
            ]
          },
          "metadata": {
            "tags": []
          }
        },
        {
          "output_type": "stream",
          "text": [
            "I think that digit for i - 794 is: 0\n"
          ],
          "name": "stdout"
        },
        {
          "output_type": "display_data",
          "data": {
            "image/png": "[encoded data removed]",
            "text/plain": [
              "<Figure size 432x288 with 1 Axes>"
            ]
          },
          "metadata": {
            "tags": []
          }
        },
        {
          "output_type": "stream",
          "text": [
            "I think that digit for i - 761 is: 2\n"
          ],
          "name": "stdout"
        },
        {
          "output_type": "display_data",
          "data": {
            "image/png": "[encoded data removed]",
            "text/plain": [
              "<Figure size 432x288 with 1 Axes>"
            ]
          },
          "metadata": {
            "tags": []
          }
        },
        {
          "output_type": "stream",
          "text": [
            "I think that digit for i - 717 is: 1\n"
          ],
          "name": "stdout"
        },
        {
          "output_type": "display_data",
          "data": {
            "image/png": "[encoded data removed]",
            "text/plain": [
              "<Figure size 432x288 with 1 Axes>"
            ]
          },
          "metadata": {
            "tags": []
          }
        }
      ]
    },
    {
      "cell_type": "markdown",
      "metadata": {
        "id": "wQIftTDRpZWh",
        "colab_type": "text"
      },
      "source": [
        "We see that the KNN Classifier is rather poor in image classification for the above dataset. Now, let us try our hand at image classification through Deep Learning using Keras, with the same dataset.\n"
      ]
    },
    {
      "cell_type": "markdown",
      "metadata": {
        "id": "DNrno_rrpjXs",
        "colab_type": "text"
      },
      "source": [
        "# **Image Classification Using DNN**"
      ]
    },
    {
      "cell_type": "code",
      "metadata": {
        "id": "fcKo-4D0pqsK",
        "colab_type": "code",
        "colab": {}
      },
      "source": [
        "# Get the data\n",
        "X_test = np.array(f[list(f.keys())[0]])\n",
        "X_train = np.array(f[list(f.keys())[1]])\n",
        "X_val = np.array(f[list(f.keys())[2]])\n",
        "y_test = np.array(f[list(f.keys())[3]])\n",
        "y_train = np.array(f[list(f.keys())[4]])\n",
        "y_val = np.array(f[list(f.keys())[5]])"
      ],
      "execution_count": 0,
      "outputs": []
    },
    {
      "cell_type": "code",
      "metadata": {
        "id": "sYTAh8N2pz2o",
        "colab_type": "code",
        "outputId": "fe589e89-4209-41a5-c9b9-231d524ecc81",
        "colab": {
          "base_uri": "https://localhost:8080/",
          "height": 123
        }
      },
      "source": [
        "print(\"X_test Shape: \", X_test.shape)\n",
        "print(\"X_train Shape: \", X_train.shape)\n",
        "print(\"X_val Shape: \", X_val.shape)\n",
        "print(\"y_test Shape: \", y_test.shape)\n",
        "print(\"y_train Shape: \", y_train.shape)\n",
        "print(\"y_val Shape: \", y_val.shape)"
      ],
      "execution_count": 40,
      "outputs": [
        {
          "output_type": "stream",
          "text": [
            "X_test Shape:  (18000, 32, 32)\n",
            "X_train Shape:  (42000, 32, 32)\n",
            "X_val Shape:  (60000, 32, 32)\n",
            "y_test Shape:  (18000,)\n",
            "y_train Shape:  (42000,)\n",
            "y_val Shape:  (60000,)\n"
          ],
          "name": "stdout"
        }
      ]
    },
    {
      "cell_type": "code",
      "metadata": {
        "id": "yJlebLJwp16J",
        "colab_type": "code",
        "colab": {}
      },
      "source": [
        "trainY = tf.keras.utils.to_categorical(y_train, num_classes=10)\n",
        "testY = tf.keras.utils.to_categorical(y_test, num_classes=10)\n",
        "valY = tf.keras.utils.to_categorical(y_val, num_classes=10)"
      ],
      "execution_count": 0,
      "outputs": []
    },
    {
      "cell_type": "code",
      "metadata": {
        "id": "eK_yJEGgp5rR",
        "colab_type": "code",
        "outputId": "99f02157-ad44-444d-e8ba-8595332ec4f8",
        "colab": {
          "base_uri": "https://localhost:8080/",
          "height": 90
        }
      },
      "source": [
        "#Initialize Sequential model\n",
        "model = tf.keras.models.Sequential()\n",
        "\n",
        "#Reshape data from 2D to 1D -> 32x32 to 1024\n",
        "model.add(tf.keras.layers.Reshape((1024,),input_shape=(32,32,)))\n",
        "\n",
        "#Normalize the data\n",
        "model.add(tf.keras.layers.BatchNormalization())"
      ],
      "execution_count": 42,
      "outputs": [
        {
          "output_type": "stream",
          "text": [
            "WARNING:tensorflow:From /usr/local/lib/python3.6/dist-packages/tensorflow_core/python/ops/resource_variable_ops.py:1630: calling BaseResourceVariable.__init__ (from tensorflow.python.ops.resource_variable_ops) with constraint is deprecated and will be removed in a future version.\n",
            "Instructions for updating:\n",
            "If using Keras pass *_constraint arguments to layers.\n"
          ],
          "name": "stdout"
        }
      ]
    },
    {
      "cell_type": "code",
      "metadata": {
        "id": "mPRndcb2p8Qv",
        "colab_type": "code",
        "colab": {}
      },
      "source": [
        "#Add 1st hidden layer\n",
        "model.add(tf.keras.layers.Dense(200, activation='relu'))"
      ],
      "execution_count": 0,
      "outputs": []
    },
    {
      "cell_type": "code",
      "metadata": {
        "id": "h65ATas7p_3r",
        "colab_type": "code",
        "colab": {}
      },
      "source": [
        "#Add 2nd hidden layer\n",
        "model.add(tf.keras.layers.Dense(100, activation='relu'))"
      ],
      "execution_count": 0,
      "outputs": []
    },
    {
      "cell_type": "code",
      "metadata": {
        "id": "evOO2vlwqCM9",
        "colab_type": "code",
        "colab": {}
      },
      "source": [
        "#Add 3rd hidden layer\n",
        "model.add(tf.keras.layers.Dense(60, activation='relu'))\n"
      ],
      "execution_count": 0,
      "outputs": []
    },
    {
      "cell_type": "code",
      "metadata": {
        "id": "Gv-O3B0IqHXc",
        "colab_type": "code",
        "colab": {}
      },
      "source": [
        "#Add 4th hidden layer\n",
        "model.add(tf.keras.layers.Dense(30, activation='relu'))"
      ],
      "execution_count": 0,
      "outputs": []
    },
    {
      "cell_type": "code",
      "metadata": {
        "id": "zWek9_4BqID1",
        "colab_type": "code",
        "colab": {}
      },
      "source": [
        "#Add OUTPUT layer\n",
        "model.add(tf.keras.layers.Dense(10, activation='softmax'))"
      ],
      "execution_count": 0,
      "outputs": []
    },
    {
      "cell_type": "code",
      "metadata": {
        "id": "wo31GsEzqKjZ",
        "colab_type": "code",
        "colab": {}
      },
      "source": [
        "#Create optimizer with non-default learning rate\n",
        "sgd_optimizer = tf.keras.optimizers.SGD(lr=0.03)"
      ],
      "execution_count": 0,
      "outputs": []
    },
    {
      "cell_type": "code",
      "metadata": {
        "id": "kMTlfQkGqNB2",
        "colab_type": "code",
        "colab": {}
      },
      "source": [
        "\n",
        "#Compile the model\n",
        "model.compile(optimizer=sgd_optimizer, loss='categorical_crossentropy', metrics=['accuracy'])"
      ],
      "execution_count": 0,
      "outputs": []
    },
    {
      "cell_type": "code",
      "metadata": {
        "id": "mMGEFax3qO8A",
        "colab_type": "code",
        "outputId": "ecbc502d-75cf-4645-ec3b-57d3b9c6e0ce",
        "colab": {
          "base_uri": "https://localhost:8080/",
          "height": 407
        }
      },
      "source": [
        "model.summary()"
      ],
      "execution_count": 50,
      "outputs": [
        {
          "output_type": "stream",
          "text": [
            "Model: \"sequential\"\n",
            "_________________________________________________________________\n",
            "Layer (type)                 Output Shape              Param #   \n",
            "=================================================================\n",
            "reshape (Reshape)            (None, 1024)              0         \n",
            "_________________________________________________________________\n",
            "batch_normalization (BatchNo (None, 1024)              4096      \n",
            "_________________________________________________________________\n",
            "dense (Dense)                (None, 200)               205000    \n",
            "_________________________________________________________________\n",
            "dense_1 (Dense)              (None, 100)               20100     \n",
            "_________________________________________________________________\n",
            "dense_2 (Dense)              (None, 60)                6060      \n",
            "_________________________________________________________________\n",
            "dense_3 (Dense)              (None, 30)                1830      \n",
            "_________________________________________________________________\n",
            "dense_4 (Dense)              (None, 10)                310       \n",
            "=================================================================\n",
            "Total params: 237,396\n",
            "Trainable params: 235,348\n",
            "Non-trainable params: 2,048\n",
            "_________________________________________________________________\n"
          ],
          "name": "stdout"
        }
      ]
    },
    {
      "cell_type": "code",
      "metadata": {
        "id": "sfWz4Qd0qRdm",
        "colab_type": "code",
        "outputId": "3f98032e-2b9d-4cdf-b21b-cdd2d977b358",
        "colab": {
          "base_uri": "https://localhost:8080/",
          "height": 407
        }
      },
      "source": [
        "model.fit(X_train,trainY,          \n",
        "          validation_data=(X_test,testY),\n",
        "          epochs=10,\n",
        "          batch_size=128)"
      ],
      "execution_count": 51,
      "outputs": [
        {
          "output_type": "stream",
          "text": [
            "Train on 42000 samples, validate on 18000 samples\n",
            "Epoch 1/10\n",
            "42000/42000 [==============================] - 4s 95us/sample - loss: 1.9493 - acc: 0.3119 - val_loss: 2.0793 - val_acc: 0.3408\n",
            "Epoch 2/10\n",
            "42000/42000 [==============================] - 4s 84us/sample - loss: 1.2459 - acc: 0.6070 - val_loss: 1.3378 - val_acc: 0.5779\n",
            "Epoch 3/10\n",
            "42000/42000 [==============================] - 4s 84us/sample - loss: 1.0054 - acc: 0.6894 - val_loss: 1.0966 - val_acc: 0.6656\n",
            "Epoch 4/10\n",
            "42000/42000 [==============================] - 4s 86us/sample - loss: 0.8797 - acc: 0.7276 - val_loss: 1.1077 - val_acc: 0.6661\n",
            "Epoch 5/10\n",
            "42000/42000 [==============================] - 4s 84us/sample - loss: 0.7994 - acc: 0.7527 - val_loss: 1.3135 - val_acc: 0.6175\n",
            "Epoch 6/10\n",
            "42000/42000 [==============================] - 4s 85us/sample - loss: 0.7405 - acc: 0.7716 - val_loss: 1.2088 - val_acc: 0.6560\n",
            "Epoch 7/10\n",
            "42000/42000 [==============================] - 4s 86us/sample - loss: 0.6939 - acc: 0.7851 - val_loss: 0.8785 - val_acc: 0.7373\n",
            "Epoch 8/10\n",
            "42000/42000 [==============================] - 4s 87us/sample - loss: 0.6491 - acc: 0.7994 - val_loss: 0.8803 - val_acc: 0.7334\n",
            "Epoch 9/10\n",
            "42000/42000 [==============================] - 4s 84us/sample - loss: 0.6234 - acc: 0.8075 - val_loss: 0.8360 - val_acc: 0.7546\n",
            "Epoch 10/10\n",
            "42000/42000 [==============================] - 4s 86us/sample - loss: 0.5922 - acc: 0.8167 - val_loss: 1.1697 - val_acc: 0.6942\n"
          ],
          "name": "stdout"
        },
        {
          "output_type": "execute_result",
          "data": {
            "text/plain": [
              "<tensorflow.python.keras.callbacks.History at 0x7ffaf3daf7b8>"
            ]
          },
          "metadata": {
            "tags": []
          },
          "execution_count": 51
        }
      ]
    },
    {
      "cell_type": "markdown",
      "metadata": {
        "id": "dfG5BsX1qW9V",
        "colab_type": "text"
      },
      "source": [
        "After Several Combinations of the various Epochs and Batch Size, I found that 10 epochs with a batch size of 128 yielded the best results at the extreme end with a accuracy of 86.26% on the 3rd epoch, whereas a batch size of 96 yielded consistently good results of around 84% across all epochs."
      ]
    },
    {
      "cell_type": "code",
      "metadata": {
        "id": "mW-qZD4kqYQd",
        "colab_type": "code",
        "colab": {}
      },
      "source": [
        "\n",
        "#Now let us try with varying learning rates with same model hyperparameters\n",
        "sgd_optimizer_lr_1 = tf.keras.optimizers.SGD(lr=0.01)\n",
        "sgd_optimizer_lr_5 = tf.keras.optimizers.SGD(lr=0.05)\n",
        "sgd_optimizer_lr_10 = tf.keras.optimizers.SGD(lr=0.1)"
      ],
      "execution_count": 0,
      "outputs": []
    },
    {
      "cell_type": "code",
      "metadata": {
        "id": "eM-AvumMqqJq",
        "colab_type": "code",
        "colab": {}
      },
      "source": [
        "#Compile the model\n",
        "model.compile(optimizer=sgd_optimizer_lr_1, loss='categorical_crossentropy', metrics=['accuracy'])"
      ],
      "execution_count": 0,
      "outputs": []
    },
    {
      "cell_type": "code",
      "metadata": {
        "id": "AFDA2fvvqsyu",
        "colab_type": "code",
        "outputId": "2f45bf56-94e7-40cc-ac85-a2353806471e",
        "colab": {
          "base_uri": "https://localhost:8080/",
          "height": 407
        }
      },
      "source": [
        "model.fit(X_train,trainY,          \n",
        "          validation_data=(X_test,testY),\n",
        "          epochs=10,\n",
        "          batch_size=128)"
      ],
      "execution_count": 57,
      "outputs": [
        {
          "output_type": "stream",
          "text": [
            "Train on 42000 samples, validate on 18000 samples\n",
            "Epoch 1/10\n",
            "42000/42000 [==============================] - 4s 86us/sample - loss: 0.4026 - acc: 0.8760 - val_loss: 0.7210 - val_acc: 0.7979\n",
            "Epoch 2/10\n",
            "42000/42000 [==============================] - 3s 82us/sample - loss: 0.3966 - acc: 0.8780 - val_loss: 0.7671 - val_acc: 0.7874\n",
            "Epoch 3/10\n",
            "42000/42000 [==============================] - 3s 82us/sample - loss: 0.3943 - acc: 0.8784 - val_loss: 0.8376 - val_acc: 0.7717\n",
            "Epoch 4/10\n",
            "42000/42000 [==============================] - 3s 83us/sample - loss: 0.3876 - acc: 0.8804 - val_loss: 0.7107 - val_acc: 0.8002\n",
            "Epoch 5/10\n",
            "42000/42000 [==============================] - 3s 81us/sample - loss: 0.3799 - acc: 0.8826 - val_loss: 0.6355 - val_acc: 0.8253\n",
            "Epoch 6/10\n",
            "42000/42000 [==============================] - 3s 82us/sample - loss: 0.3725 - acc: 0.8850 - val_loss: 0.6490 - val_acc: 0.8268\n",
            "Epoch 7/10\n",
            "42000/42000 [==============================] - 3s 83us/sample - loss: 0.3687 - acc: 0.8856 - val_loss: 0.7217 - val_acc: 0.8014\n",
            "Epoch 8/10\n",
            "42000/42000 [==============================] - 3s 83us/sample - loss: 0.3635 - acc: 0.8871 - val_loss: 0.6819 - val_acc: 0.8133\n",
            "Epoch 9/10\n",
            "42000/42000 [==============================] - 4s 85us/sample - loss: 0.3532 - acc: 0.8915 - val_loss: 0.6349 - val_acc: 0.8285\n",
            "Epoch 10/10\n",
            "42000/42000 [==============================] - 4s 84us/sample - loss: 0.3519 - acc: 0.8905 - val_loss: 0.6547 - val_acc: 0.8214\n"
          ],
          "name": "stdout"
        },
        {
          "output_type": "execute_result",
          "data": {
            "text/plain": [
              "<tensorflow.python.keras.callbacks.History at 0x7ffaee7d3f60>"
            ]
          },
          "metadata": {
            "tags": []
          },
          "execution_count": 57
        }
      ]
    },
    {
      "cell_type": "code",
      "metadata": {
        "id": "0aoVCKjRquvb",
        "colab_type": "code",
        "colab": {}
      },
      "source": [
        "#Compile the model\n",
        "model.compile(optimizer=sgd_optimizer_lr_5, loss='categorical_crossentropy', metrics=['accuracy'])"
      ],
      "execution_count": 0,
      "outputs": []
    },
    {
      "cell_type": "code",
      "metadata": {
        "id": "yBQ0nunMqyqX",
        "colab_type": "code",
        "outputId": "f9513fa7-2875-48e7-99a4-bc584d256556",
        "colab": {
          "base_uri": "https://localhost:8080/",
          "height": 407
        }
      },
      "source": [
        "model.fit(X_train,trainY,          \n",
        "          validation_data=(X_test,testY),\n",
        "          epochs=10,\n",
        "          batch_size=128)"
      ],
      "execution_count": 59,
      "outputs": [
        {
          "output_type": "stream",
          "text": [
            "Train on 42000 samples, validate on 18000 samples\n",
            "Epoch 1/10\n",
            "42000/42000 [==============================] - 4s 94us/sample - loss: 0.7523 - acc: 0.7839 - val_loss: 0.9696 - val_acc: 0.7170\n",
            "Epoch 2/10\n",
            "42000/42000 [==============================] - 4s 87us/sample - loss: 0.5501 - acc: 0.8271 - val_loss: 1.3536 - val_acc: 0.6467\n",
            "Epoch 3/10\n",
            "42000/42000 [==============================] - 4s 94us/sample - loss: 0.5214 - acc: 0.8358 - val_loss: 1.5834 - val_acc: 0.6358\n",
            "Epoch 4/10\n",
            "42000/42000 [==============================] - 4s 88us/sample - loss: 0.4961 - acc: 0.8457 - val_loss: 2.1018 - val_acc: 0.5922\n",
            "Epoch 5/10\n",
            "42000/42000 [==============================] - 4s 85us/sample - loss: 0.4724 - acc: 0.8526 - val_loss: 0.8768 - val_acc: 0.7625\n",
            "Epoch 6/10\n",
            "42000/42000 [==============================] - 4s 85us/sample - loss: 0.4431 - acc: 0.8593 - val_loss: 1.5120 - val_acc: 0.6676\n",
            "Epoch 7/10\n",
            "42000/42000 [==============================] - 4s 89us/sample - loss: 0.4320 - acc: 0.8636 - val_loss: 2.5795 - val_acc: 0.5833\n",
            "Epoch 8/10\n",
            "42000/42000 [==============================] - 4s 86us/sample - loss: 0.4159 - acc: 0.8692 - val_loss: 1.4367 - val_acc: 0.6813\n",
            "Epoch 9/10\n",
            "42000/42000 [==============================] - 4s 85us/sample - loss: 0.3963 - acc: 0.8728 - val_loss: 2.8336 - val_acc: 0.5274\n",
            "Epoch 10/10\n",
            "42000/42000 [==============================] - 3s 83us/sample - loss: 0.4069 - acc: 0.8725 - val_loss: 2.1720 - val_acc: 0.5941\n"
          ],
          "name": "stdout"
        },
        {
          "output_type": "execute_result",
          "data": {
            "text/plain": [
              "<tensorflow.python.keras.callbacks.History at 0x7ffaee771f60>"
            ]
          },
          "metadata": {
            "tags": []
          },
          "execution_count": 59
        }
      ]
    },
    {
      "cell_type": "code",
      "metadata": {
        "id": "7KbYNcpSq0wb",
        "colab_type": "code",
        "colab": {}
      },
      "source": [
        "\n",
        "#Compile the model\n",
        "model.compile(optimizer=sgd_optimizer_lr_10, loss='categorical_crossentropy', metrics=['accuracy'])"
      ],
      "execution_count": 0,
      "outputs": []
    },
    {
      "cell_type": "code",
      "metadata": {
        "id": "7Ko-_OxFq3uB",
        "colab_type": "code",
        "outputId": "52992fbe-228f-4ca4-b27c-fe26b8c11d0e",
        "colab": {
          "base_uri": "https://localhost:8080/",
          "height": 407
        }
      },
      "source": [
        "model.fit(X_train,trainY,          \n",
        "          validation_data=(X_test,testY),\n",
        "          epochs=10,\n",
        "          batch_size=128)"
      ],
      "execution_count": 61,
      "outputs": [
        {
          "output_type": "stream",
          "text": [
            "Train on 42000 samples, validate on 18000 samples\n",
            "Epoch 1/10\n",
            "42000/42000 [==============================] - 4s 86us/sample - loss: 0.6107 - acc: 0.8109 - val_loss: 1.6132 - val_acc: 0.6369\n",
            "Epoch 2/10\n",
            "42000/42000 [==============================] - 3s 82us/sample - loss: 0.5043 - acc: 0.8403 - val_loss: 2.2818 - val_acc: 0.5824\n",
            "Epoch 3/10\n",
            "42000/42000 [==============================] - 4s 84us/sample - loss: 0.4889 - acc: 0.8454 - val_loss: 2.2361 - val_acc: 0.5549\n",
            "Epoch 4/10\n",
            "42000/42000 [==============================] - 3s 83us/sample - loss: 0.4598 - acc: 0.8543 - val_loss: 2.0520 - val_acc: 0.5902\n",
            "Epoch 5/10\n",
            "42000/42000 [==============================] - 4s 84us/sample - loss: 0.4327 - acc: 0.8620 - val_loss: 1.3392 - val_acc: 0.6489\n",
            "Epoch 6/10\n",
            "42000/42000 [==============================] - 3s 83us/sample - loss: 0.4141 - acc: 0.8669 - val_loss: 1.1158 - val_acc: 0.7157\n",
            "Epoch 7/10\n",
            "42000/42000 [==============================] - 4s 84us/sample - loss: 0.3880 - acc: 0.8751 - val_loss: 3.6521 - val_acc: 0.5598\n",
            "Epoch 8/10\n",
            "42000/42000 [==============================] - 4s 85us/sample - loss: 0.4144 - acc: 0.8711 - val_loss: 1.2185 - val_acc: 0.7079\n",
            "Epoch 9/10\n",
            "42000/42000 [==============================] - 4s 86us/sample - loss: 0.3685 - acc: 0.8820 - val_loss: 1.0484 - val_acc: 0.7581\n",
            "Epoch 10/10\n",
            "42000/42000 [==============================] - 4s 84us/sample - loss: 0.3506 - acc: 0.8872 - val_loss: 1.9427 - val_acc: 0.6352\n"
          ],
          "name": "stdout"
        },
        {
          "output_type": "execute_result",
          "data": {
            "text/plain": [
              "<tensorflow.python.keras.callbacks.History at 0x7ffaf4875b38>"
            ]
          },
          "metadata": {
            "tags": []
          },
          "execution_count": 61
        }
      ]
    },
    {
      "cell_type": "markdown",
      "metadata": {
        "id": "OhWQ1bWhq95K",
        "colab_type": "text"
      },
      "source": [
        "It seems increasing learning rates for Stochastic Gradient Descent has a negative effect on the accuracy. However, a learning rate of 0.01 has proven very effective as can be seen from the above results. Let us now try once with the Adam optimizer."
      ]
    },
    {
      "cell_type": "code",
      "metadata": {
        "id": "9WiLpqsIrA4L",
        "colab_type": "code",
        "colab": {}
      },
      "source": [
        "#Compile the model\n",
        "adam_optimizer = tf.keras.optimizers.Adam(lr = 0.0005)\n",
        "model.compile(optimizer= adam_optimizer, loss='categorical_crossentropy', metrics=['accuracy'])"
      ],
      "execution_count": 0,
      "outputs": []
    },
    {
      "cell_type": "code",
      "metadata": {
        "id": "obg8f0VZrElC",
        "colab_type": "code",
        "outputId": "8c98373d-e783-4df3-a864-ab35f0edbb29",
        "colab": {
          "base_uri": "https://localhost:8080/",
          "height": 407
        }
      },
      "source": [
        "model.fit(X_train,trainY,          \n",
        "          validation_data=(X_test,testY),\n",
        "          epochs=10,\n",
        "          batch_size=128)"
      ],
      "execution_count": 63,
      "outputs": [
        {
          "output_type": "stream",
          "text": [
            "Train on 42000 samples, validate on 18000 samples\n",
            "Epoch 1/10\n",
            "42000/42000 [==============================] - 4s 98us/sample - loss: 0.3421 - acc: 0.8910 - val_loss: 0.5966 - val_acc: 0.8426\n",
            "Epoch 2/10\n",
            "42000/42000 [==============================] - 4s 92us/sample - loss: 0.2983 - acc: 0.9057 - val_loss: 0.6119 - val_acc: 0.8400\n",
            "Epoch 3/10\n",
            "42000/42000 [==============================] - 4s 88us/sample - loss: 0.2907 - acc: 0.9067 - val_loss: 0.6040 - val_acc: 0.8469\n",
            "Epoch 4/10\n",
            "42000/42000 [==============================] - 4s 91us/sample - loss: 0.2832 - acc: 0.9086 - val_loss: 0.5947 - val_acc: 0.8473\n",
            "Epoch 5/10\n",
            "42000/42000 [==============================] - 4s 87us/sample - loss: 0.2768 - acc: 0.9117 - val_loss: 0.6141 - val_acc: 0.8469\n",
            "Epoch 6/10\n",
            "42000/42000 [==============================] - 4s 90us/sample - loss: 0.2714 - acc: 0.9123 - val_loss: 0.6428 - val_acc: 0.8370\n",
            "Epoch 7/10\n",
            "42000/42000 [==============================] - 4s 87us/sample - loss: 0.2716 - acc: 0.9125 - val_loss: 0.6578 - val_acc: 0.8382\n",
            "Epoch 8/10\n",
            "42000/42000 [==============================] - 4s 88us/sample - loss: 0.2515 - acc: 0.9190 - val_loss: 0.6292 - val_acc: 0.8450\n",
            "Epoch 9/10\n",
            "42000/42000 [==============================] - 4s 93us/sample - loss: 0.2567 - acc: 0.9161 - val_loss: 0.6460 - val_acc: 0.8402\n",
            "Epoch 10/10\n",
            "42000/42000 [==============================] - 4s 89us/sample - loss: 0.2490 - acc: 0.9200 - val_loss: 0.6551 - val_acc: 0.8467\n"
          ],
          "name": "stdout"
        },
        {
          "output_type": "execute_result",
          "data": {
            "text/plain": [
              "<tensorflow.python.keras.callbacks.History at 0x7ffaf47f3550>"
            ]
          },
          "metadata": {
            "tags": []
          },
          "execution_count": 63
        }
      ]
    },
    {
      "cell_type": "code",
      "metadata": {
        "id": "HqRXASgnrHJZ",
        "colab_type": "code",
        "colab": {}
      },
      "source": [
        ""
      ],
      "execution_count": 0,
      "outputs": []
    },
    {
      "cell_type": "markdown",
      "metadata": {
        "id": "B4FBfpSCrKlp",
        "colab_type": "text"
      },
      "source": [
        "\n",
        "We see excellent results after various combinations of Adam Optimizer Learning Rates and witness the highest accuracy of all models and hyperparameters with Adam Optimizer having a learning rate of 0.0005 and Batch Size 128 with 10 epochs. It is certain that results may improve through further tuning, but I feel we have reached a satisfactory model state with validation accuracy approaching the 90% range, which can be considered a good model for image classification.\n",
        "\n",
        "From above we note that Deep Neural Networks offer a significant improvement in image classification accuracy as compared to plain vanilla KNN Classifiers. Therefore, the use of DNN with Keras for image classification is justified."
      ]
    },
    {
      "cell_type": "code",
      "metadata": {
        "id": "Iqkp_--irLqI",
        "colab_type": "code",
        "colab": {
          "base_uri": "https://localhost:8080/",
          "height": 34
        },
        "outputId": "045c4ad0-46c7-47a1-f37b-2d51888615ae"
      },
      "source": [
        "from keras.preprocessing import image\n",
        "from keras.preprocessing.image import img_to_array"
      ],
      "execution_count": 64,
      "outputs": [
        {
          "output_type": "stream",
          "text": [
            "Using TensorFlow backend.\n"
          ],
          "name": "stderr"
        }
      ]
    },
    {
      "cell_type": "code",
      "metadata": {
        "id": "DAOCWlgKrOH0",
        "colab_type": "code",
        "colab": {}
      },
      "source": [
        "def load_image(img, show=True):\n",
        "  \n",
        "    img_tensor = image.img_to_array(img)                    # (height, width, channels)\n",
        "    img_tensor = np.expand_dims(img_tensor, axis=0)         # (1, height, width, channels), add a dimension because the model expects this shape: (batch_size, height, width, channels)\n",
        "    img_tensor /= 255.                                      # imshow expects values in the range [0, 1]\n",
        "\n",
        "    if show:\n",
        "        plt.imshow(img_tensor[0])                           \n",
        "        plt.axis('off')\n",
        "        plt.show()\n",
        "\n",
        "    return img_tensor"
      ],
      "execution_count": 0,
      "outputs": []
    },
    {
      "cell_type": "code",
      "metadata": {
        "id": "oPUjbv1prQZh",
        "colab_type": "code",
        "colab": {}
      },
      "source": [
        "#Abandoning above POC as its not working. Below POC is better for predictions.\n"
      ],
      "execution_count": 0,
      "outputs": []
    },
    {
      "cell_type": "code",
      "metadata": {
        "id": "2o2eUDIgrSEV",
        "colab_type": "code",
        "outputId": "4033fef3-a3ac-40db-f5d4-4b39ca835114",
        "colab": {
          "base_uri": "https://localhost:8080/",
          "height": 34
        }
      },
      "source": [
        "#Lets Predict Images using our model\n",
        "out = model.predict(X_test[0:10])\n",
        "print(np.argmax(out, axis=1))"
      ],
      "execution_count": 66,
      "outputs": [
        {
          "output_type": "stream",
          "text": [
            "[1 7 2 9 0 9 1 8 1 4]\n"
          ],
          "name": "stdout"
        }
      ]
    },
    {
      "cell_type": "code",
      "metadata": {
        "id": "n3EiEnyurUG3",
        "colab_type": "code",
        "outputId": "ea9be35f-dc2c-4f09-8550-7ff24c33e9f6",
        "colab": {
          "base_uri": "https://localhost:8080/",
          "height": 1000
        }
      },
      "source": [
        "for i in range(0,10):\n",
        "    print(\"I think that digit is: {}\".format(np.argmax(out, axis=1)[i]))\n",
        "    plt.imshow(X_test[i], cmap=plt.cm.gray_r, interpolation='nearest')\n",
        "    plt.show()"
      ],
      "execution_count": 67,
      "outputs": [
        {
          "output_type": "stream",
          "text": [
            "I think that digit is: 1\n"
          ],
          "name": "stdout"
        },
        {
          "output_type": "display_data",
          "data": {
            "image/png": "[encoded data removed]",
            "text/plain": [
              "<Figure size 432x288 with 1 Axes>"
            ]
          },
          "metadata": {
            "tags": []
          }
        },
        {
          "output_type": "stream",
          "text": [
            "I think that digit is: 7\n"
          ],
          "name": "stdout"
        },
        {
          "output_type": "display_data",
          "data": {
            "image/png": "[encoded data removed]",
            "text/plain": [
              "<Figure size 432x288 with 1 Axes>"
            ]
          },
          "metadata": {
            "tags": []
          }
        },
        {
          "output_type": "stream",
          "text": [
            "I think that digit is: 2\n"
          ],
          "name": "stdout"
        },
        {
          "output_type": "display_data",
          "data": {
            "image/png": "[encoded data removed]",
            "text/plain": [
              "<Figure size 432x288 with 1 Axes>"
            ]
          },
          "metadata": {
            "tags": []
          }
        },
        {
          "output_type": "stream",
          "text": [
            "I think that digit is: 9\n"
          ],
          "name": "stdout"
        },
        {
          "output_type": "display_data",
          "data": {
            "image/png": "[encoded data removed]",
            "text/plain": [
              "<Figure size 432x288 with 1 Axes>"
            ]
          },
          "metadata": {
            "tags": []
          }
        },
        {
          "output_type": "stream",
          "text": [
            "I think that digit is: 0\n"
          ],
          "name": "stdout"
        },
        {
          "output_type": "display_data",
          "data": {
            "image/png": "[encoded data removed]",
            "text/plain": [
              "<Figure size 432x288 with 1 Axes>"
            ]
          },
          "metadata": {
            "tags": []
          }
        },
        {
          "output_type": "stream",
          "text": [
            "I think that digit is: 9\n"
          ],
          "name": "stdout"
        },
        {
          "output_type": "display_data",
          "data": {
            "image/png": "[encoded data removed]",
            "text/plain": [
              "<Figure size 432x288 with 1 Axes>"
            ]
          },
          "metadata": {
            "tags": []
          }
        },
        {
          "output_type": "stream",
          "text": [
            "I think that digit is: 1\n"
          ],
          "name": "stdout"
        },
        {
          "output_type": "display_data",
          "data": {
            "image/png": "[encoded data removed]",
            "text/plain": [
              "<Figure size 432x288 with 1 Axes>"
            ]
          },
          "metadata": {
            "tags": []
          }
        },
        {
          "output_type": "stream",
          "text": [
            "I think that digit is: 8\n"
          ],
          "name": "stdout"
        },
        {
          "output_type": "display_data",
          "data": {
            "image/png": "[encoded data removed]",
            "text/plain": [
              "<Figure size 432x288 with 1 Axes>"
            ]
          },
          "metadata": {
            "tags": []
          }
        },
        {
          "output_type": "stream",
          "text": [
            "I think that digit is: 1\n"
          ],
          "name": "stdout"
        },
        {
          "output_type": "display_data",
          "data": {
            "image/png": "[encoded data removed]",
            "text/plain": [
              "<Figure size 432x288 with 1 Axes>"
            ]
          },
          "metadata": {
            "tags": []
          }
        },
        {
          "output_type": "stream",
          "text": [
            "I think that digit is: 4\n"
          ],
          "name": "stdout"
        },
        {
          "output_type": "display_data",
          "data": {
            "image/png": "[encoded data removed]",
            "text/plain": [
              "<Figure size 432x288 with 1 Axes>"
            ]
          },
          "metadata": {
            "tags": []
          }
        }
      ]
    },
    {
      "cell_type": "markdown",
      "metadata": {
        "id": "d6NhIM2grZS0",
        "colab_type": "text"
      },
      "source": [
        "We see that the model predicts images quite accurately, as per the accuracy mentioned in the model summary. Therefore, it seems we are ok with this model and approaching the human accuracy."
      ]
    },
    {
      "cell_type": "markdown",
      "metadata": {
        "id": "J8uiJrg1reyr",
        "colab_type": "text"
      },
      "source": [
        "# Conclusion"
      ]
    },
    {
      "cell_type": "markdown",
      "metadata": {
        "id": "0Czh1zWMrce_",
        "colab_type": "text"
      },
      "source": [
        "Based on our experimentation of various classification mechanisms both classical as well through Deep Neural Networks, we may reach the conclusion that DNNs are quite efficient for image classification.\n",
        "\n",
        "Metrics show accuracy to be sub par i.e. below 50% for classical ML KNN models whereas they show a healthy accuracy for tuned models around 87%."
      ]
    },
    {
      "cell_type": "code",
      "metadata": {
        "id": "VBONrZBxreFp",
        "colab_type": "code",
        "colab": {}
      },
      "source": [
        ""
      ],
      "execution_count": 0,
      "outputs": []
    }
  ]
}