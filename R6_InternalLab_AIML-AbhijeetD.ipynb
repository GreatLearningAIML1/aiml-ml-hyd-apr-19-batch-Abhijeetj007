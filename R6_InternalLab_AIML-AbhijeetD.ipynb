{
 "cells": [
  {
   "cell_type": "markdown",
   "metadata": {
    "colab_type": "text",
    "id": "sb7Epo0VOB58"
   },
   "source": [
    "### Load tensorflow"
   ]
  },
  {
   "cell_type": "code",
   "execution_count": 1,
   "metadata": {
    "colab": {},
    "colab_type": "code",
    "id": "fHpCNRv1OB5-"
   },
   "outputs": [],
   "source": [
    "import tensorflow as tf"
   ]
  },
  {
   "cell_type": "code",
   "execution_count": 2,
   "metadata": {},
   "outputs": [],
   "source": [
    "from sklearn.preprocessing import Normalizer"
   ]
  },
  {
   "cell_type": "markdown",
   "metadata": {},
   "source": [
    "### Enable Eager Execution if you are using tensorflow 1.x"
   ]
  },
  {
   "cell_type": "code",
   "execution_count": 3,
   "metadata": {},
   "outputs": [],
   "source": [
    "# Enable Eager Execution\n",
    "tf.enable_eager_execution()"
   ]
  },
  {
   "cell_type": "markdown",
   "metadata": {
    "colab_type": "text",
    "id": "DxJDmJqqOB6K",
    "slideshow": {
     "slide_type": "slide"
    }
   },
   "source": [
    "### Collect Data"
   ]
  },
  {
   "cell_type": "code",
   "execution_count": 4,
   "metadata": {
    "colab": {},
    "colab_type": "code",
    "id": "FhllFLyKOB6N"
   },
   "outputs": [],
   "source": [
    "import pandas as pd"
   ]
  },
  {
   "cell_type": "code",
   "execution_count": 5,
   "metadata": {
    "colab": {},
    "colab_type": "code",
    "id": "B4yQKMiJOB6R"
   },
   "outputs": [],
   "source": [
    "data = pd.read_csv('prices.csv')"
   ]
  },
  {
   "cell_type": "markdown",
   "metadata": {
    "colab_type": "text",
    "id": "fgkX6SEqOB6W"
   },
   "source": [
    "### Check all columns in the dataset"
   ]
  },
  {
   "cell_type": "code",
   "execution_count": 6,
   "metadata": {
    "colab": {},
    "colab_type": "code",
    "id": "7K8pWsNQOB6X"
   },
   "outputs": [
    {
     "data": {
      "text/plain": [
       "date       object\n",
       "symbol     object\n",
       "open      float64\n",
       "close     float64\n",
       "low       float64\n",
       "high      float64\n",
       "volume    float64\n",
       "dtype: object"
      ]
     },
     "execution_count": 6,
     "metadata": {},
     "output_type": "execute_result"
    }
   ],
   "source": [
    "data.dtypes"
   ]
  },
  {
   "cell_type": "code",
   "execution_count": 7,
   "metadata": {},
   "outputs": [
    {
     "data": {
      "text/plain": [
       "Index(['date', 'symbol', 'open', 'close', 'low', 'high', 'volume'], dtype='object')"
      ]
     },
     "execution_count": 7,
     "metadata": {},
     "output_type": "execute_result"
    }
   ],
   "source": [
    "data.columns"
   ]
  },
  {
   "cell_type": "code",
   "execution_count": 8,
   "metadata": {},
   "outputs": [
    {
     "data": {
      "text/html": [
       "<div>\n",
       "<style scoped>\n",
       "    .dataframe tbody tr th:only-of-type {\n",
       "        vertical-align: middle;\n",
       "    }\n",
       "\n",
       "    .dataframe tbody tr th {\n",
       "        vertical-align: top;\n",
       "    }\n",
       "\n",
       "    .dataframe thead th {\n",
       "        text-align: right;\n",
       "    }\n",
       "</style>\n",
       "<table border=\"1\" class=\"dataframe\">\n",
       "  <thead>\n",
       "    <tr style=\"text-align: right;\">\n",
       "      <th></th>\n",
       "      <th>date</th>\n",
       "      <th>symbol</th>\n",
       "      <th>open</th>\n",
       "      <th>close</th>\n",
       "      <th>low</th>\n",
       "      <th>high</th>\n",
       "      <th>volume</th>\n",
       "    </tr>\n",
       "  </thead>\n",
       "  <tbody>\n",
       "    <tr>\n",
       "      <th>0</th>\n",
       "      <td>2016-01-05 00:00:00</td>\n",
       "      <td>WLTW</td>\n",
       "      <td>123.430000</td>\n",
       "      <td>125.839996</td>\n",
       "      <td>122.309998</td>\n",
       "      <td>126.250000</td>\n",
       "      <td>2163600.0</td>\n",
       "    </tr>\n",
       "    <tr>\n",
       "      <th>1</th>\n",
       "      <td>2016-01-06 00:00:00</td>\n",
       "      <td>WLTW</td>\n",
       "      <td>125.239998</td>\n",
       "      <td>119.980003</td>\n",
       "      <td>119.940002</td>\n",
       "      <td>125.540001</td>\n",
       "      <td>2386400.0</td>\n",
       "    </tr>\n",
       "    <tr>\n",
       "      <th>2</th>\n",
       "      <td>2016-01-07 00:00:00</td>\n",
       "      <td>WLTW</td>\n",
       "      <td>116.379997</td>\n",
       "      <td>114.949997</td>\n",
       "      <td>114.930000</td>\n",
       "      <td>119.739998</td>\n",
       "      <td>2489500.0</td>\n",
       "    </tr>\n",
       "    <tr>\n",
       "      <th>3</th>\n",
       "      <td>2016-01-08 00:00:00</td>\n",
       "      <td>WLTW</td>\n",
       "      <td>115.480003</td>\n",
       "      <td>116.620003</td>\n",
       "      <td>113.500000</td>\n",
       "      <td>117.440002</td>\n",
       "      <td>2006300.0</td>\n",
       "    </tr>\n",
       "    <tr>\n",
       "      <th>4</th>\n",
       "      <td>2016-01-11 00:00:00</td>\n",
       "      <td>WLTW</td>\n",
       "      <td>117.010002</td>\n",
       "      <td>114.970001</td>\n",
       "      <td>114.089996</td>\n",
       "      <td>117.330002</td>\n",
       "      <td>1408600.0</td>\n",
       "    </tr>\n",
       "  </tbody>\n",
       "</table>\n",
       "</div>"
      ],
      "text/plain": [
       "                  date symbol        open       close         low        high  \\\n",
       "0  2016-01-05 00:00:00   WLTW  123.430000  125.839996  122.309998  126.250000   \n",
       "1  2016-01-06 00:00:00   WLTW  125.239998  119.980003  119.940002  125.540001   \n",
       "2  2016-01-07 00:00:00   WLTW  116.379997  114.949997  114.930000  119.739998   \n",
       "3  2016-01-08 00:00:00   WLTW  115.480003  116.620003  113.500000  117.440002   \n",
       "4  2016-01-11 00:00:00   WLTW  117.010002  114.970001  114.089996  117.330002   \n",
       "\n",
       "      volume  \n",
       "0  2163600.0  \n",
       "1  2386400.0  \n",
       "2  2489500.0  \n",
       "3  2006300.0  \n",
       "4  1408600.0  "
      ]
     },
     "execution_count": 8,
     "metadata": {},
     "output_type": "execute_result"
    }
   ],
   "source": [
    "data.head()"
   ]
  },
  {
   "cell_type": "markdown",
   "metadata": {
    "colab_type": "text",
    "id": "7dU6X7MpOB6c"
   },
   "source": [
    "### Drop columns `date` and  `symbol`"
   ]
  },
  {
   "cell_type": "code",
   "execution_count": 9,
   "metadata": {
    "colab": {},
    "colab_type": "code",
    "id": "lh_6spSKOB6e"
   },
   "outputs": [],
   "source": [
    "data = data.drop(columns=['date','symbol'], axis = 1)"
   ]
  },
  {
   "cell_type": "code",
   "execution_count": 10,
   "metadata": {
    "colab": {},
    "colab_type": "code",
    "id": "xlwbUgTwOB6i",
    "outputId": "56bad82a-f271-415a-e0d6-cbe1c4290743"
   },
   "outputs": [
    {
     "data": {
      "text/html": [
       "<div>\n",
       "<style scoped>\n",
       "    .dataframe tbody tr th:only-of-type {\n",
       "        vertical-align: middle;\n",
       "    }\n",
       "\n",
       "    .dataframe tbody tr th {\n",
       "        vertical-align: top;\n",
       "    }\n",
       "\n",
       "    .dataframe thead th {\n",
       "        text-align: right;\n",
       "    }\n",
       "</style>\n",
       "<table border=\"1\" class=\"dataframe\">\n",
       "  <thead>\n",
       "    <tr style=\"text-align: right;\">\n",
       "      <th></th>\n",
       "      <th>open</th>\n",
       "      <th>close</th>\n",
       "      <th>low</th>\n",
       "      <th>high</th>\n",
       "      <th>volume</th>\n",
       "    </tr>\n",
       "  </thead>\n",
       "  <tbody>\n",
       "    <tr>\n",
       "      <th>0</th>\n",
       "      <td>123.430000</td>\n",
       "      <td>125.839996</td>\n",
       "      <td>122.309998</td>\n",
       "      <td>126.250000</td>\n",
       "      <td>2163600.0</td>\n",
       "    </tr>\n",
       "    <tr>\n",
       "      <th>1</th>\n",
       "      <td>125.239998</td>\n",
       "      <td>119.980003</td>\n",
       "      <td>119.940002</td>\n",
       "      <td>125.540001</td>\n",
       "      <td>2386400.0</td>\n",
       "    </tr>\n",
       "    <tr>\n",
       "      <th>2</th>\n",
       "      <td>116.379997</td>\n",
       "      <td>114.949997</td>\n",
       "      <td>114.930000</td>\n",
       "      <td>119.739998</td>\n",
       "      <td>2489500.0</td>\n",
       "    </tr>\n",
       "    <tr>\n",
       "      <th>3</th>\n",
       "      <td>115.480003</td>\n",
       "      <td>116.620003</td>\n",
       "      <td>113.500000</td>\n",
       "      <td>117.440002</td>\n",
       "      <td>2006300.0</td>\n",
       "    </tr>\n",
       "    <tr>\n",
       "      <th>4</th>\n",
       "      <td>117.010002</td>\n",
       "      <td>114.970001</td>\n",
       "      <td>114.089996</td>\n",
       "      <td>117.330002</td>\n",
       "      <td>1408600.0</td>\n",
       "    </tr>\n",
       "  </tbody>\n",
       "</table>\n",
       "</div>"
      ],
      "text/plain": [
       "         open       close         low        high     volume\n",
       "0  123.430000  125.839996  122.309998  126.250000  2163600.0\n",
       "1  125.239998  119.980003  119.940002  125.540001  2386400.0\n",
       "2  116.379997  114.949997  114.930000  119.739998  2489500.0\n",
       "3  115.480003  116.620003  113.500000  117.440002  2006300.0\n",
       "4  117.010002  114.970001  114.089996  117.330002  1408600.0"
      ]
     },
     "execution_count": 10,
     "metadata": {},
     "output_type": "execute_result"
    }
   ],
   "source": [
    "data.head()"
   ]
  },
  {
   "cell_type": "markdown",
   "metadata": {
    "colab_type": "text",
    "id": "3DBv3WWYOB6q"
   },
   "source": [
    "### Consider only first 1000 rows in the dataset for building feature set and target set"
   ]
  },
  {
   "cell_type": "code",
   "execution_count": 11,
   "metadata": {
    "colab": {},
    "colab_type": "code",
    "id": "Z_hG9rGBOB6s"
   },
   "outputs": [],
   "source": [
    "data = data.head(1000)"
   ]
  },
  {
   "cell_type": "code",
   "execution_count": 12,
   "metadata": {},
   "outputs": [
    {
     "data": {
      "text/plain": [
       "(1000, 5)"
      ]
     },
     "execution_count": 12,
     "metadata": {},
     "output_type": "execute_result"
    }
   ],
   "source": [
    "data.shape"
   ]
  },
  {
   "cell_type": "code",
   "execution_count": 13,
   "metadata": {},
   "outputs": [
    {
     "data": {
      "text/html": [
       "<div>\n",
       "<style scoped>\n",
       "    .dataframe tbody tr th:only-of-type {\n",
       "        vertical-align: middle;\n",
       "    }\n",
       "\n",
       "    .dataframe tbody tr th {\n",
       "        vertical-align: top;\n",
       "    }\n",
       "\n",
       "    .dataframe thead th {\n",
       "        text-align: right;\n",
       "    }\n",
       "</style>\n",
       "<table border=\"1\" class=\"dataframe\">\n",
       "  <thead>\n",
       "    <tr style=\"text-align: right;\">\n",
       "      <th></th>\n",
       "      <th>open</th>\n",
       "      <th>close</th>\n",
       "      <th>low</th>\n",
       "      <th>high</th>\n",
       "      <th>volume</th>\n",
       "    </tr>\n",
       "  </thead>\n",
       "  <tbody>\n",
       "    <tr>\n",
       "      <th>54</th>\n",
       "      <td>121.470001</td>\n",
       "      <td>119.379997</td>\n",
       "      <td>119.099998</td>\n",
       "      <td>121.470001</td>\n",
       "      <td>444200.0</td>\n",
       "    </tr>\n",
       "    <tr>\n",
       "      <th>536</th>\n",
       "      <td>22.209999</td>\n",
       "      <td>21.870001</td>\n",
       "      <td>21.790001</td>\n",
       "      <td>22.219999</td>\n",
       "      <td>3680300.0</td>\n",
       "    </tr>\n",
       "    <tr>\n",
       "      <th>861</th>\n",
       "      <td>34.680000</td>\n",
       "      <td>34.459999</td>\n",
       "      <td>34.360001</td>\n",
       "      <td>34.930000</td>\n",
       "      <td>2485100.0</td>\n",
       "    </tr>\n",
       "    <tr>\n",
       "      <th>445</th>\n",
       "      <td>170.050003</td>\n",
       "      <td>173.080002</td>\n",
       "      <td>169.509995</td>\n",
       "      <td>174.250000</td>\n",
       "      <td>9135000.0</td>\n",
       "    </tr>\n",
       "    <tr>\n",
       "      <th>224</th>\n",
       "      <td>124.370003</td>\n",
       "      <td>124.820000</td>\n",
       "      <td>122.919998</td>\n",
       "      <td>125.400002</td>\n",
       "      <td>1011700.0</td>\n",
       "    </tr>\n",
       "  </tbody>\n",
       "</table>\n",
       "</div>"
      ],
      "text/plain": [
       "           open       close         low        high     volume\n",
       "54   121.470001  119.379997  119.099998  121.470001   444200.0\n",
       "536   22.209999   21.870001   21.790001   22.219999  3680300.0\n",
       "861   34.680000   34.459999   34.360001   34.930000  2485100.0\n",
       "445  170.050003  173.080002  169.509995  174.250000  9135000.0\n",
       "224  124.370003  124.820000  122.919998  125.400002  1011700.0"
      ]
     },
     "execution_count": 13,
     "metadata": {},
     "output_type": "execute_result"
    }
   ],
   "source": [
    "data.sample(5)"
   ]
  },
  {
   "cell_type": "markdown",
   "metadata": {},
   "source": [
    "### Convert Float64 to Float32"
   ]
  },
  {
   "cell_type": "code",
   "execution_count": 14,
   "metadata": {},
   "outputs": [],
   "source": [
    "data = data.astype('float32')\n"
   ]
  },
  {
   "cell_type": "markdown",
   "metadata": {
    "colab_type": "text",
    "id": "M3UaApqYOB6x"
   },
   "source": [
    "### Divide the data into train and test sets"
   ]
  },
  {
   "cell_type": "code",
   "execution_count": 15,
   "metadata": {
    "colab": {},
    "colab_type": "code",
    "id": "2EkKAy7fOB6y"
   },
   "outputs": [],
   "source": [
    "from sklearn.model_selection import train_test_split\n",
    "\n",
    "X1 = data.drop(columns= \"close\" , axis = 1) \n",
    "Y1 = data[\"close\"]\n"
   ]
  },
  {
   "cell_type": "markdown",
   "metadata": {},
   "source": [
    "### Normalize Train and Test Data "
   ]
  },
  {
   "cell_type": "code",
   "execution_count": 16,
   "metadata": {},
   "outputs": [],
   "source": [
    "\n",
    "\n",
    "train_x, test_x,train_y,test_y = train_test_split(X1, Y1, test_size=.3, random_state=7)"
   ]
  },
  {
   "cell_type": "code",
   "execution_count": 17,
   "metadata": {},
   "outputs": [],
   "source": [
    "import numpy as np\n",
    "transformer = Normalizer()\n",
    "X1_train= transformer.fit_transform(train_x)\n",
    "Y1_train=np.array(train_y)"
   ]
  },
  {
   "cell_type": "markdown",
   "metadata": {
    "colab_type": "text",
    "id": "v6vE4eYCOB62",
    "slideshow": {
     "slide_type": "slide"
    }
   },
   "source": [
    "## Building the graph in tensorflow"
   ]
  },
  {
   "cell_type": "markdown",
   "metadata": {
    "colab_type": "text",
    "id": "297_qja4OB7A",
    "slideshow": {
     "slide_type": "slide"
    }
   },
   "source": [
    "2.Define Weights and Bias"
   ]
  },
  {
   "cell_type": "code",
   "execution_count": 18,
   "metadata": {
    "colab": {},
    "colab_type": "code",
    "id": "L205qPeQOB7B"
   },
   "outputs": [],
   "source": [
    "#We are initializing weights and Bias with Zero\n",
    "w = tf.zeros(shape=(4,1))\n",
    "b = tf.zeros(shape=(1))"
   ]
  },
  {
   "cell_type": "markdown",
   "metadata": {
    "colab_type": "text",
    "id": "HgtWA-UIOB7F",
    "slideshow": {
     "slide_type": "slide"
    }
   },
   "source": [
    "3.Prediction"
   ]
  },
  {
   "cell_type": "code",
   "execution_count": 19,
   "metadata": {
    "colab": {},
    "colab_type": "code",
    "id": "JveGlx25OB7H"
   },
   "outputs": [],
   "source": [
    "def prediction(x, w, b):\n",
    "   \n",
    "   xw_matmul = tf.matmul(x, w)\n",
    "   y = tf.add(xw_matmul, b)\n",
    "   \n",
    "   return y"
   ]
  },
  {
   "cell_type": "markdown",
   "metadata": {
    "colab_type": "text",
    "id": "TL1hIwf_OB7M",
    "slideshow": {
     "slide_type": "slide"
    }
   },
   "source": [
    "4.Loss (Cost) Function [Mean square error]"
   ]
  },
  {
   "cell_type": "code",
   "execution_count": 20,
   "metadata": {
    "colab": {},
    "colab_type": "code",
    "id": "8VSWPiGXOB7P"
   },
   "outputs": [],
   "source": [
    "def loss(y_actual, y_predicted):\n",
    "   \n",
    "   diff = y_actual - y_predicted\n",
    "   sqr = tf.square(diff)\n",
    "   avg = tf.reduce_mean(sqr)\n",
    "   \n",
    "   return avg"
   ]
  },
  {
   "cell_type": "markdown",
   "metadata": {
    "colab_type": "text",
    "id": "jzG85FUlOB7U",
    "slideshow": {
     "slide_type": "slide"
    }
   },
   "source": [
    "5.GradientDescent Optimizer to minimize Loss [GradientDescentOptimizer]"
   ]
  },
  {
   "cell_type": "code",
   "execution_count": 21,
   "metadata": {
    "colab": {},
    "colab_type": "code",
    "id": "cj802w-3OB7X"
   },
   "outputs": [],
   "source": [
    "def train(x, y_actual, w, b, learning_rate=0.01):\n",
    "   \n",
    "   #Record mathematical operations on 'tape' to calculate loss\n",
    "   with tf.GradientTape() as t:\n",
    "       \n",
    "       t.watch([w,b])\n",
    "       \n",
    "       current_prediction = prediction(x, w, b)\n",
    "       current_loss = loss(y_actual, current_prediction)\n",
    "   \n",
    "   #Calculate Gradients for Loss with respect to Weights and Bias\n",
    "   dw, db = t.gradient(current_loss,[w, b])\n",
    "   \n",
    "   #Update Weights and Bias\n",
    "   w = w - learning_rate*dw\n",
    "   b = b - learning_rate*db\n",
    "   \n",
    "   return w, b"
   ]
  },
  {
   "cell_type": "markdown",
   "metadata": {
    "colab_type": "text",
    "id": "xSypb_u8OB7e",
    "slideshow": {
     "slide_type": "slide"
    }
   },
   "source": [
    "## Execute the Graph for 100 epochs and observe the loss"
   ]
  },
  {
   "cell_type": "code",
   "execution_count": 22,
   "metadata": {
    "colab": {},
    "colab_type": "code",
    "id": "DVvgj7eQOB7f"
   },
   "outputs": [
    {
     "name": "stdout",
     "output_type": "stream",
     "text": [
      "Current Loss on iteration 0 8002.6514\n",
      "Current Loss on iteration 1 7663.568\n",
      "Current Loss on iteration 2 7351.0693\n",
      "Current Loss on iteration 3 7063.065\n",
      "Current Loss on iteration 4 6797.6504\n",
      "Current Loss on iteration 5 6553.033\n",
      "Current Loss on iteration 6 6327.599\n",
      "Current Loss on iteration 7 6119.838\n",
      "Current Loss on iteration 8 5928.3647\n",
      "Current Loss on iteration 9 5751.9062\n",
      "Current Loss on iteration 10 5589.279\n",
      "Current Loss on iteration 11 5439.4014\n",
      "Current Loss on iteration 12 5301.2764\n",
      "Current Loss on iteration 13 5173.9775\n",
      "Current Loss on iteration 14 5056.66\n",
      "Current Loss on iteration 15 4948.547\n",
      "Current Loss on iteration 16 4848.9023\n",
      "Current Loss on iteration 17 4757.0684\n",
      "Current Loss on iteration 18 4672.4365\n",
      "Current Loss on iteration 19 4594.4424\n",
      "Current Loss on iteration 20 4522.562\n",
      "Current Loss on iteration 21 4456.313\n",
      "Current Loss on iteration 22 4395.265\n",
      "Current Loss on iteration 23 4338.999\n",
      "Current Loss on iteration 24 4287.1455\n",
      "Current Loss on iteration 25 4239.3525\n",
      "Current Loss on iteration 26 4195.3125\n",
      "Current Loss on iteration 27 4154.721\n",
      "Current Loss on iteration 28 4117.3145\n",
      "Current Loss on iteration 29 4082.8394\n",
      "Current Loss on iteration 30 4051.0688\n",
      "Current Loss on iteration 31 4021.7888\n",
      "Current Loss on iteration 32 3994.8047\n",
      "Current Loss on iteration 33 3969.9346\n",
      "Current Loss on iteration 34 3947.0127\n",
      "Current Loss on iteration 35 3925.8904\n",
      "Current Loss on iteration 36 3906.4236\n",
      "Current Loss on iteration 37 3888.4844\n",
      "Current Loss on iteration 38 3871.9487\n",
      "Current Loss on iteration 39 3856.7126\n",
      "Current Loss on iteration 40 3842.6692\n",
      "Current Loss on iteration 41 3829.7275\n",
      "Current Loss on iteration 42 3817.7986\n",
      "Current Loss on iteration 43 3806.8079\n",
      "Current Loss on iteration 44 3796.6753\n",
      "Current Loss on iteration 45 3787.3428\n",
      "Current Loss on iteration 46 3778.7356\n",
      "Current Loss on iteration 47 3770.807\n",
      "Current Loss on iteration 48 3763.4978\n",
      "Current Loss on iteration 49 3756.7632\n",
      "Current Loss on iteration 50 3750.5557\n",
      "Current Loss on iteration 51 3744.8323\n",
      "Current Loss on iteration 52 3739.5645\n",
      "Current Loss on iteration 53 3734.7046\n",
      "Current Loss on iteration 54 3730.2258\n",
      "Current Loss on iteration 55 3726.0999\n",
      "Current Loss on iteration 56 3722.2969\n",
      "Current Loss on iteration 57 3718.7917\n",
      "Current Loss on iteration 58 3715.5593\n",
      "Current Loss on iteration 59 3712.584\n",
      "Current Loss on iteration 60 3709.8408\n",
      "Current Loss on iteration 61 3707.3125\n",
      "Current Loss on iteration 62 3704.9817\n",
      "Current Loss on iteration 63 3702.8342\n",
      "Current Loss on iteration 64 3700.8552\n",
      "Current Loss on iteration 65 3699.0317\n",
      "Current Loss on iteration 66 3697.3481\n",
      "Current Loss on iteration 67 3695.8005\n",
      "Current Loss on iteration 68 3694.3762\n",
      "Current Loss on iteration 69 3693.0576\n",
      "Current Loss on iteration 70 3691.846\n",
      "Current Loss on iteration 71 3690.7253\n",
      "Current Loss on iteration 72 3689.6973\n",
      "Current Loss on iteration 73 3688.75\n",
      "Current Loss on iteration 74 3687.8718\n",
      "Current Loss on iteration 75 3687.0667\n",
      "Current Loss on iteration 76 3686.3252\n",
      "Current Loss on iteration 77 3685.6409\n",
      "Current Loss on iteration 78 3685.0068\n",
      "Current Loss on iteration 79 3684.4277\n",
      "Current Loss on iteration 80 3683.8896\n",
      "Current Loss on iteration 81 3683.3992\n",
      "Current Loss on iteration 82 3682.943\n",
      "Current Loss on iteration 83 3682.5212\n",
      "Current Loss on iteration 84 3682.135\n",
      "Current Loss on iteration 85 3681.7798\n",
      "Current Loss on iteration 86 3681.4497\n",
      "Current Loss on iteration 87 3681.1477\n",
      "Current Loss on iteration 88 3680.8687\n",
      "Current Loss on iteration 89 3680.6123\n",
      "Current Loss on iteration 90 3680.3765\n",
      "Current Loss on iteration 91 3680.1562\n",
      "Current Loss on iteration 92 3679.955\n",
      "Current Loss on iteration 93 3679.7715\n",
      "Current Loss on iteration 94 3679.599\n",
      "Current Loss on iteration 95 3679.44\n",
      "Current Loss on iteration 96 3679.2974\n",
      "Current Loss on iteration 97 3679.1626\n",
      "Current Loss on iteration 98 3679.0405\n",
      "Current Loss on iteration 99 3678.9253\n"
     ]
    }
   ],
   "source": [
    "for i in range(100):\n",
    "   \n",
    "   w, b = train(X1_train, Y1_train, w, b)\n",
    "   print('Current Loss on iteration', i, loss(Y1_train, prediction(X1_train, w, b)).numpy())"
   ]
  },
  {
   "cell_type": "markdown",
   "metadata": {
    "colab_type": "text",
    "id": "DOL2ncA1OB7q"
   },
   "source": [
    "### Get the shapes and values of W and b"
   ]
  },
  {
   "cell_type": "code",
   "execution_count": 23,
   "metadata": {
    "colab": {},
    "colab_type": "code",
    "id": "ZGvtyTeuOB7r"
   },
   "outputs": [
    {
     "name": "stdout",
     "output_type": "stream",
     "text": [
      "Weights:\n",
      " [[2.5353245e-03]\n",
      " [2.5108384e-03]\n",
      " [2.5564781e-03]\n",
      " [3.3674854e+01]]\n",
      "Bias:\n",
      " [33.67486]\n"
     ]
    }
   ],
   "source": [
    "#Check Weights and Bias\n",
    "print('Weights:\\n', w.numpy())\n",
    "print('Bias:\\n',b.numpy())"
   ]
  },
  {
   "cell_type": "markdown",
   "metadata": {
    "colab_type": "text",
    "id": "YJRBuqXhOB7_"
   },
   "source": [
    "### Linear Classification using Keras"
   ]
  },
  {
   "cell_type": "markdown",
   "metadata": {
    "colab_type": "text",
    "id": "8GoNTWXAOB8C",
    "slideshow": {
     "slide_type": "slide"
    }
   },
   "source": [
    "### Building the simple Neural Network in Keras with one neuron in the dense hidden layer.\n",
    "#### Use Mean square error as loss function and sgd as optimizer"
   ]
  },
  {
   "cell_type": "code",
   "execution_count": 24,
   "metadata": {},
   "outputs": [],
   "source": [
    "# model = tf.keras.models.Sequential()\n",
    "# model.add(tf.keras.layers.BatchNormalization())\n",
    "# model.add(tf.keras.layers.Dense(1,  input_shape=(4,)))"
   ]
  },
  {
   "cell_type": "code",
   "execution_count": 25,
   "metadata": {
    "colab": {},
    "colab_type": "code",
    "id": "zpeL5rCTOB8D"
   },
   "outputs": [],
   "source": [
    "#Initialize Sequential Graph (model)\n",
    "model = tf.keras.Sequential()\n",
    "\n",
    "#Add Dense layer for prediction - Keras declares weights and bias automatically\n",
    "model.add(tf.keras.layers.Dense(1, input_shape=(4,)))\n",
    "\n",
    "#Compile the model - add Loss and Gradient Descent optimizer\n",
    "model.compile(optimizer='sgd', loss='mse')"
   ]
  },
  {
   "cell_type": "markdown",
   "metadata": {
    "colab_type": "text",
    "id": "Wt-HYFMEOB8G",
    "slideshow": {
     "slide_type": "slide"
    }
   },
   "source": [
    "### Execute the model"
   ]
  },
  {
   "cell_type": "code",
   "execution_count": 26,
   "metadata": {},
   "outputs": [
    {
     "name": "stdout",
     "output_type": "stream",
     "text": [
      "Epoch 1/100\n",
      "700/700 [==============================] - 0s 196us/sample - loss: nan       \n",
      "Epoch 2/100\n",
      "700/700 [==============================] - 0s 67us/sample - loss: nan\n",
      "Epoch 3/100\n",
      "700/700 [==============================] - 0s 53us/sample - loss: nan\n",
      "Epoch 4/100\n",
      "700/700 [==============================] - 0s 53us/sample - loss: nan\n",
      "Epoch 5/100\n",
      "700/700 [==============================] - 0s 57us/sample - loss: nan\n",
      "Epoch 6/100\n",
      "700/700 [==============================] - 0s 54us/sample - loss: nan\n",
      "Epoch 7/100\n",
      "700/700 [==============================] - 0s 57us/sample - loss: nan\n",
      "Epoch 8/100\n",
      "700/700 [==============================] - 0s 47us/sample - loss: nan\n",
      "Epoch 9/100\n",
      "700/700 [==============================] - 0s 49us/sample - loss: nan\n",
      "Epoch 10/100\n",
      "700/700 [==============================] - 0s 49us/sample - loss: nan\n",
      "Epoch 11/100\n",
      "700/700 [==============================] - 0s 44us/sample - loss: nan\n",
      "Epoch 12/100\n",
      "700/700 [==============================] - 0s 49us/sample - loss: nan\n",
      "Epoch 13/100\n",
      "700/700 [==============================] - 0s 56us/sample - loss: nan\n",
      "Epoch 14/100\n",
      "700/700 [==============================] - 0s 63us/sample - loss: nan\n",
      "Epoch 15/100\n",
      "700/700 [==============================] - 0s 50us/sample - loss: nan\n",
      "Epoch 16/100\n",
      "700/700 [==============================] - 0s 54us/sample - loss: nan\n",
      "Epoch 17/100\n",
      "700/700 [==============================] - 0s 39us/sample - loss: nan\n",
      "Epoch 18/100\n",
      "700/700 [==============================] - 0s 54us/sample - loss: nan\n",
      "Epoch 19/100\n",
      "700/700 [==============================] - 0s 44us/sample - loss: nan\n",
      "Epoch 20/100\n",
      "700/700 [==============================] - 0s 67us/sample - loss: nan\n",
      "Epoch 21/100\n",
      "700/700 [==============================] - 0s 63us/sample - loss: nan\n",
      "Epoch 22/100\n",
      "700/700 [==============================] - 0s 51us/sample - loss: nan\n",
      "Epoch 23/100\n",
      "700/700 [==============================] - 0s 60us/sample - loss: nan\n",
      "Epoch 24/100\n",
      "700/700 [==============================] - 0s 53us/sample - loss: nan\n",
      "Epoch 25/100\n",
      "700/700 [==============================] - 0s 56us/sample - loss: nan\n",
      "Epoch 26/100\n",
      "700/700 [==============================] - 0s 50us/sample - loss: nan\n",
      "Epoch 27/100\n",
      "700/700 [==============================] - 0s 54us/sample - loss: nan\n",
      "Epoch 28/100\n",
      "700/700 [==============================] - 0s 59us/sample - loss: nan\n",
      "Epoch 29/100\n",
      "700/700 [==============================] - 0s 43us/sample - loss: nan\n",
      "Epoch 30/100\n",
      "700/700 [==============================] - 0s 43us/sample - loss: nan\n",
      "Epoch 31/100\n",
      "700/700 [==============================] - 0s 54us/sample - loss: nan\n",
      "Epoch 32/100\n",
      "700/700 [==============================] - 0s 49us/sample - loss: nan\n",
      "Epoch 33/100\n",
      "700/700 [==============================] - 0s 46us/sample - loss: nan\n",
      "Epoch 34/100\n",
      "700/700 [==============================] - 0s 57us/sample - loss: nan\n",
      "Epoch 35/100\n",
      "700/700 [==============================] - 0s 54us/sample - loss: nan\n",
      "Epoch 36/100\n",
      "700/700 [==============================] - 0s 61us/sample - loss: nan\n",
      "Epoch 37/100\n",
      "700/700 [==============================] - 0s 57us/sample - loss: nan\n",
      "Epoch 38/100\n",
      "700/700 [==============================] - 0s 51us/sample - loss: nan\n",
      "Epoch 39/100\n",
      "700/700 [==============================] - 0s 63us/sample - loss: nan\n",
      "Epoch 40/100\n",
      "700/700 [==============================] - 0s 63us/sample - loss: nan\n",
      "Epoch 41/100\n",
      "700/700 [==============================] - 0s 56us/sample - loss: nan\n",
      "Epoch 42/100\n",
      "700/700 [==============================] - 0s 49us/sample - loss: nan\n",
      "Epoch 43/100\n",
      "700/700 [==============================] - ETA: 0s - loss: n - 0s 54us/sample - loss: nan\n",
      "Epoch 44/100\n",
      "700/700 [==============================] - 0s 51us/sample - loss: nan\n",
      "Epoch 45/100\n",
      "700/700 [==============================] - 0s 76us/sample - loss: nan\n",
      "Epoch 46/100\n",
      "700/700 [==============================] - 0s 50us/sample - loss: nan\n",
      "Epoch 47/100\n",
      "700/700 [==============================] - 0s 53us/sample - loss: nan\n",
      "Epoch 48/100\n",
      "700/700 [==============================] - 0s 57us/sample - loss: nan\n",
      "Epoch 49/100\n",
      "700/700 [==============================] - 0s 49us/sample - loss: nan\n",
      "Epoch 50/100\n",
      "700/700 [==============================] - 0s 63us/sample - loss: nan\n",
      "Epoch 51/100\n",
      "700/700 [==============================] - 0s 40us/sample - loss: nan\n",
      "Epoch 52/100\n",
      "700/700 [==============================] - 0s 44us/sample - loss: nan\n",
      "Epoch 53/100\n",
      "700/700 [==============================] - 0s 49us/sample - loss: nan\n",
      "Epoch 54/100\n",
      "700/700 [==============================] - 0s 53us/sample - loss: nan\n",
      "Epoch 55/100\n",
      "700/700 [==============================] - 0s 51us/sample - loss: nan\n",
      "Epoch 56/100\n",
      "700/700 [==============================] - 0s 59us/sample - loss: nan\n",
      "Epoch 57/100\n",
      "700/700 [==============================] - 0s 43us/sample - loss: nan\n",
      "Epoch 58/100\n",
      "700/700 [==============================] - 0s 44us/sample - loss: nan\n",
      "Epoch 59/100\n",
      "700/700 [==============================] - 0s 61us/sample - loss: nan\n",
      "Epoch 60/100\n",
      "700/700 [==============================] - 0s 51us/sample - loss: nan\n",
      "Epoch 61/100\n",
      "700/700 [==============================] - ETA: 0s - loss: n - 0s 44us/sample - loss: nan\n",
      "Epoch 62/100\n",
      "700/700 [==============================] - 0s 41us/sample - loss: nan\n",
      "Epoch 63/100\n",
      "700/700 [==============================] - 0s 49us/sample - loss: nan\n",
      "Epoch 64/100\n",
      "700/700 [==============================] - 0s 53us/sample - loss: nan\n",
      "Epoch 65/100\n",
      "700/700 [==============================] - 0s 40us/sample - loss: nan\n",
      "Epoch 66/100\n",
      "700/700 [==============================] - 0s 49us/sample - loss: nan\n",
      "Epoch 67/100\n",
      "700/700 [==============================] - 0s 41us/sample - loss: nan\n",
      "Epoch 68/100\n",
      "700/700 [==============================] - 0s 39us/sample - loss: nan\n",
      "Epoch 69/100\n",
      "700/700 [==============================] - 0s 43us/sample - loss: nan\n",
      "Epoch 70/100\n",
      "700/700 [==============================] - 0s 46us/sample - loss: nan\n",
      "Epoch 71/100\n",
      "700/700 [==============================] - 0s 50us/sample - loss: nan\n",
      "Epoch 72/100\n",
      "700/700 [==============================] - 0s 57us/sample - loss: nan\n",
      "Epoch 73/100\n",
      "700/700 [==============================] - 0s 43us/sample - loss: nan\n",
      "Epoch 74/100\n",
      "700/700 [==============================] - 0s 49us/sample - loss: nan\n",
      "Epoch 75/100\n",
      "700/700 [==============================] - 0s 47us/sample - loss: nan\n",
      "Epoch 76/100\n",
      "700/700 [==============================] - 0s 59us/sample - loss: nan\n",
      "Epoch 77/100\n",
      "700/700 [==============================] - 0s 63us/sample - loss: nan\n",
      "Epoch 78/100\n",
      "700/700 [==============================] - 0s 66us/sample - loss: nan\n",
      "Epoch 79/100\n",
      "700/700 [==============================] - 0s 47us/sample - loss: nan\n",
      "Epoch 80/100\n",
      "700/700 [==============================] - 0s 49us/sample - loss: nan\n",
      "Epoch 81/100\n",
      "700/700 [==============================] - 0s 41us/sample - loss: nan\n",
      "Epoch 82/100\n",
      "700/700 [==============================] - 0s 46us/sample - loss: nan\n",
      "Epoch 83/100\n",
      "700/700 [==============================] - 0s 49us/sample - loss: nan\n",
      "Epoch 84/100\n",
      "700/700 [==============================] - 0s 54us/sample - loss: nan\n",
      "Epoch 85/100\n",
      "700/700 [==============================] - 0s 44us/sample - loss: nan\n",
      "Epoch 86/100\n",
      "700/700 [==============================] - 0s 50us/sample - loss: nan\n",
      "Epoch 87/100\n",
      "700/700 [==============================] - 0s 41us/sample - loss: nan\n",
      "Epoch 88/100\n",
      "700/700 [==============================] - 0s 57us/sample - loss: nan\n",
      "Epoch 89/100\n",
      "700/700 [==============================] - 0s 61us/sample - loss: nan\n",
      "Epoch 90/100\n",
      "700/700 [==============================] - 0s 36us/sample - loss: nan\n",
      "Epoch 91/100\n",
      "700/700 [==============================] - 0s 43us/sample - loss: nan\n",
      "Epoch 92/100\n",
      "700/700 [==============================] - 0s 39us/sample - loss: nan\n",
      "Epoch 93/100\n",
      "700/700 [==============================] - 0s 41us/sample - loss: nan\n",
      "Epoch 94/100\n",
      "700/700 [==============================] - 0s 43us/sample - loss: nan\n",
      "Epoch 95/100\n",
      "700/700 [==============================] - 0s 50us/sample - loss: nan\n",
      "Epoch 96/100\n",
      "700/700 [==============================] - 0s 40us/sample - loss: nan\n",
      "Epoch 97/100\n",
      "700/700 [==============================] - 0s 44us/sample - loss: nan\n",
      "Epoch 98/100\n",
      "700/700 [==============================] - 0s 67us/sample - loss: nan\n",
      "Epoch 99/100\n"
     ]
    },
    {
     "name": "stdout",
     "output_type": "stream",
     "text": [
      "700/700 [==============================] - 0s 41us/sample - loss: nan\n",
      "Epoch 100/100\n",
      "700/700 [==============================] - 0s 43us/sample - loss: nan\n"
     ]
    },
    {
     "data": {
      "text/plain": [
       "<tensorflow.python.keras.callbacks.History at 0x1ec4ee3b208>"
      ]
     },
     "execution_count": 26,
     "metadata": {},
     "output_type": "execute_result"
    }
   ],
   "source": [
    "model.fit(train_x,train_y, epochs=100)"
   ]
  },
  {
   "cell_type": "code",
   "execution_count": 27,
   "metadata": {},
   "outputs": [
    {
     "name": "stdout",
     "output_type": "stream",
     "text": [
      "Model: \"sequential\"\n",
      "_________________________________________________________________\n",
      "Layer (type)                 Output Shape              Param #   \n",
      "=================================================================\n",
      "dense (Dense)                (None, 1)                 5         \n",
      "=================================================================\n",
      "Total params: 5\n",
      "Trainable params: 5\n",
      "Non-trainable params: 0\n",
      "_________________________________________________________________\n"
     ]
    }
   ],
   "source": [
    "model.summary()"
   ]
  },
  {
   "cell_type": "code",
   "execution_count": 28,
   "metadata": {},
   "outputs": [
    {
     "data": {
      "text/plain": [
       "[array([[nan],\n",
       "        [nan],\n",
       "        [nan],\n",
       "        [nan]], dtype=float32), array([nan], dtype=float32)]"
      ]
     },
     "execution_count": 28,
     "metadata": {},
     "output_type": "execute_result"
    }
   ],
   "source": [
    "model.get_weights()"
   ]
  },
  {
   "cell_type": "markdown",
   "metadata": {},
   "source": [
    "### Classification using Keras "
   ]
  },
  {
   "cell_type": "code",
   "execution_count": null,
   "metadata": {},
   "outputs": [],
   "source": []
  },
  {
   "cell_type": "markdown",
   "metadata": {},
   "source": [
    "### Load the given Iris data using pandas (Iris.csv)"
   ]
  },
  {
   "cell_type": "code",
   "execution_count": 194,
   "metadata": {},
   "outputs": [],
   "source": [
    "# iris= mount_drive(\"Iris-1.csv\")\n",
    "iris = pd.read_csv('Iris-2.csv')"
   ]
  },
  {
   "cell_type": "code",
   "execution_count": 195,
   "metadata": {},
   "outputs": [
    {
     "data": {
      "text/plain": [
       "Id                 int64\n",
       "SepalLengthCm    float64\n",
       "SepalWidthCm     float64\n",
       "PetalLengthCm    float64\n",
       "PetalWidthCm     float64\n",
       "Species           object\n",
       "dtype: object"
      ]
     },
     "execution_count": 195,
     "metadata": {},
     "output_type": "execute_result"
    }
   ],
   "source": [
    "iris.dtypes"
   ]
  },
  {
   "cell_type": "code",
   "execution_count": 196,
   "metadata": {},
   "outputs": [
    {
     "data": {
      "text/html": [
       "<div>\n",
       "<style scoped>\n",
       "    .dataframe tbody tr th:only-of-type {\n",
       "        vertical-align: middle;\n",
       "    }\n",
       "\n",
       "    .dataframe tbody tr th {\n",
       "        vertical-align: top;\n",
       "    }\n",
       "\n",
       "    .dataframe thead th {\n",
       "        text-align: right;\n",
       "    }\n",
       "</style>\n",
       "<table border=\"1\" class=\"dataframe\">\n",
       "  <thead>\n",
       "    <tr style=\"text-align: right;\">\n",
       "      <th></th>\n",
       "      <th>Id</th>\n",
       "      <th>SepalLengthCm</th>\n",
       "      <th>SepalWidthCm</th>\n",
       "      <th>PetalLengthCm</th>\n",
       "      <th>PetalWidthCm</th>\n",
       "      <th>Species</th>\n",
       "    </tr>\n",
       "  </thead>\n",
       "  <tbody>\n",
       "    <tr>\n",
       "      <th>0</th>\n",
       "      <td>1</td>\n",
       "      <td>5.1</td>\n",
       "      <td>3.5</td>\n",
       "      <td>1.4</td>\n",
       "      <td>0.2</td>\n",
       "      <td>Iris-setosa</td>\n",
       "    </tr>\n",
       "    <tr>\n",
       "      <th>1</th>\n",
       "      <td>2</td>\n",
       "      <td>4.9</td>\n",
       "      <td>3.0</td>\n",
       "      <td>1.4</td>\n",
       "      <td>0.2</td>\n",
       "      <td>Iris-setosa</td>\n",
       "    </tr>\n",
       "    <tr>\n",
       "      <th>2</th>\n",
       "      <td>3</td>\n",
       "      <td>4.7</td>\n",
       "      <td>3.2</td>\n",
       "      <td>1.3</td>\n",
       "      <td>0.2</td>\n",
       "      <td>Iris-setosa</td>\n",
       "    </tr>\n",
       "  </tbody>\n",
       "</table>\n",
       "</div>"
      ],
      "text/plain": [
       "   Id  SepalLengthCm  SepalWidthCm  PetalLengthCm  PetalWidthCm      Species\n",
       "0   1            5.1           3.5            1.4           0.2  Iris-setosa\n",
       "1   2            4.9           3.0            1.4           0.2  Iris-setosa\n",
       "2   3            4.7           3.2            1.3           0.2  Iris-setosa"
      ]
     },
     "execution_count": 196,
     "metadata": {},
     "output_type": "execute_result"
    }
   ],
   "source": [
    "iris.head(3)"
   ]
  },
  {
   "cell_type": "code",
   "execution_count": 197,
   "metadata": {},
   "outputs": [],
   "source": [
    "iris[\"Species\"] = pd.Categorical(iris[\"Species\"]).codes"
   ]
  },
  {
   "cell_type": "code",
   "execution_count": 198,
   "metadata": {},
   "outputs": [],
   "source": [
    "iris.drop(\"Id\",axis=1,inplace=True)"
   ]
  },
  {
   "cell_type": "markdown",
   "metadata": {},
   "source": [
    "### Splitting the data into feature set and target set"
   ]
  },
  {
   "cell_type": "code",
   "execution_count": 199,
   "metadata": {},
   "outputs": [],
   "source": [
    "features = iris.drop(columns= ['Species']) \n",
    "\n",
    "target = iris[['Species']]"
   ]
  },
  {
   "cell_type": "code",
   "execution_count": 200,
   "metadata": {},
   "outputs": [
    {
     "data": {
      "text/html": [
       "<div>\n",
       "<style scoped>\n",
       "    .dataframe tbody tr th:only-of-type {\n",
       "        vertical-align: middle;\n",
       "    }\n",
       "\n",
       "    .dataframe tbody tr th {\n",
       "        vertical-align: top;\n",
       "    }\n",
       "\n",
       "    .dataframe thead th {\n",
       "        text-align: right;\n",
       "    }\n",
       "</style>\n",
       "<table border=\"1\" class=\"dataframe\">\n",
       "  <thead>\n",
       "    <tr style=\"text-align: right;\">\n",
       "      <th></th>\n",
       "      <th>SepalLengthCm</th>\n",
       "      <th>SepalWidthCm</th>\n",
       "      <th>PetalLengthCm</th>\n",
       "      <th>PetalWidthCm</th>\n",
       "    </tr>\n",
       "  </thead>\n",
       "  <tbody>\n",
       "    <tr>\n",
       "      <th>0</th>\n",
       "      <td>5.1</td>\n",
       "      <td>3.5</td>\n",
       "      <td>1.4</td>\n",
       "      <td>0.2</td>\n",
       "    </tr>\n",
       "    <tr>\n",
       "      <th>1</th>\n",
       "      <td>4.9</td>\n",
       "      <td>3.0</td>\n",
       "      <td>1.4</td>\n",
       "      <td>0.2</td>\n",
       "    </tr>\n",
       "    <tr>\n",
       "      <th>2</th>\n",
       "      <td>4.7</td>\n",
       "      <td>3.2</td>\n",
       "      <td>1.3</td>\n",
       "      <td>0.2</td>\n",
       "    </tr>\n",
       "    <tr>\n",
       "      <th>3</th>\n",
       "      <td>4.6</td>\n",
       "      <td>3.1</td>\n",
       "      <td>1.5</td>\n",
       "      <td>0.2</td>\n",
       "    </tr>\n",
       "    <tr>\n",
       "      <th>4</th>\n",
       "      <td>5.0</td>\n",
       "      <td>3.6</td>\n",
       "      <td>1.4</td>\n",
       "      <td>0.2</td>\n",
       "    </tr>\n",
       "  </tbody>\n",
       "</table>\n",
       "</div>"
      ],
      "text/plain": [
       "   SepalLengthCm  SepalWidthCm  PetalLengthCm  PetalWidthCm\n",
       "0            5.1           3.5            1.4           0.2\n",
       "1            4.9           3.0            1.4           0.2\n",
       "2            4.7           3.2            1.3           0.2\n",
       "3            4.6           3.1            1.5           0.2\n",
       "4            5.0           3.6            1.4           0.2"
      ]
     },
     "execution_count": 200,
     "metadata": {},
     "output_type": "execute_result"
    }
   ],
   "source": [
    "\n",
    "features.head(5)"
   ]
  },
  {
   "cell_type": "code",
   "execution_count": 201,
   "metadata": {},
   "outputs": [
    {
     "data": {
      "text/html": [
       "<div>\n",
       "<style scoped>\n",
       "    .dataframe tbody tr th:only-of-type {\n",
       "        vertical-align: middle;\n",
       "    }\n",
       "\n",
       "    .dataframe tbody tr th {\n",
       "        vertical-align: top;\n",
       "    }\n",
       "\n",
       "    .dataframe thead th {\n",
       "        text-align: right;\n",
       "    }\n",
       "</style>\n",
       "<table border=\"1\" class=\"dataframe\">\n",
       "  <thead>\n",
       "    <tr style=\"text-align: right;\">\n",
       "      <th></th>\n",
       "      <th>Species</th>\n",
       "    </tr>\n",
       "  </thead>\n",
       "  <tbody>\n",
       "    <tr>\n",
       "      <th>0</th>\n",
       "      <td>0</td>\n",
       "    </tr>\n",
       "    <tr>\n",
       "      <th>1</th>\n",
       "      <td>0</td>\n",
       "    </tr>\n",
       "    <tr>\n",
       "      <th>2</th>\n",
       "      <td>0</td>\n",
       "    </tr>\n",
       "    <tr>\n",
       "      <th>3</th>\n",
       "      <td>0</td>\n",
       "    </tr>\n",
       "    <tr>\n",
       "      <th>4</th>\n",
       "      <td>0</td>\n",
       "    </tr>\n",
       "  </tbody>\n",
       "</table>\n",
       "</div>"
      ],
      "text/plain": [
       "   Species\n",
       "0        0\n",
       "1        0\n",
       "2        0\n",
       "3        0\n",
       "4        0"
      ]
     },
     "execution_count": 201,
     "metadata": {},
     "output_type": "execute_result"
    }
   ],
   "source": [
    "target.head(5)"
   ]
  },
  {
   "cell_type": "markdown",
   "metadata": {},
   "source": [
    "### Target set has different categories. So, Label encode them. And convert into one-hot vectors using get_dummies in pandas."
   ]
  },
  {
   "cell_type": "code",
   "execution_count": 202,
   "metadata": {},
   "outputs": [],
   "source": [
    "from sklearn.preprocessing import LabelEncoder"
   ]
  },
  {
   "cell_type": "code",
   "execution_count": 203,
   "metadata": {},
   "outputs": [],
   "source": [
    "Y_processed = pd.DataFrame(target).apply(LabelEncoder().fit_transform)"
   ]
  },
  {
   "cell_type": "code",
   "execution_count": 204,
   "metadata": {},
   "outputs": [],
   "source": [
    "testY = tf.keras.utils.to_categorical(Y_processed, num_classes=3)"
   ]
  },
  {
   "cell_type": "code",
   "execution_count": 205,
   "metadata": {},
   "outputs": [
    {
     "data": {
      "text/plain": [
       "array([[1., 0., 0.],\n",
       "       [1., 0., 0.],\n",
       "       [1., 0., 0.],\n",
       "       [1., 0., 0.],\n",
       "       [1., 0., 0.],\n",
       "       [1., 0., 0.],\n",
       "       [1., 0., 0.],\n",
       "       [1., 0., 0.],\n",
       "       [1., 0., 0.],\n",
       "       [1., 0., 0.],\n",
       "       [1., 0., 0.],\n",
       "       [1., 0., 0.],\n",
       "       [1., 0., 0.],\n",
       "       [1., 0., 0.],\n",
       "       [1., 0., 0.],\n",
       "       [1., 0., 0.],\n",
       "       [1., 0., 0.],\n",
       "       [1., 0., 0.],\n",
       "       [1., 0., 0.],\n",
       "       [1., 0., 0.],\n",
       "       [1., 0., 0.],\n",
       "       [1., 0., 0.],\n",
       "       [1., 0., 0.],\n",
       "       [1., 0., 0.],\n",
       "       [1., 0., 0.],\n",
       "       [1., 0., 0.],\n",
       "       [1., 0., 0.],\n",
       "       [1., 0., 0.],\n",
       "       [1., 0., 0.],\n",
       "       [1., 0., 0.],\n",
       "       [1., 0., 0.],\n",
       "       [1., 0., 0.],\n",
       "       [1., 0., 0.],\n",
       "       [1., 0., 0.],\n",
       "       [1., 0., 0.],\n",
       "       [1., 0., 0.],\n",
       "       [1., 0., 0.],\n",
       "       [1., 0., 0.],\n",
       "       [1., 0., 0.],\n",
       "       [1., 0., 0.],\n",
       "       [1., 0., 0.],\n",
       "       [1., 0., 0.],\n",
       "       [1., 0., 0.],\n",
       "       [1., 0., 0.],\n",
       "       [1., 0., 0.],\n",
       "       [1., 0., 0.],\n",
       "       [1., 0., 0.],\n",
       "       [1., 0., 0.],\n",
       "       [1., 0., 0.],\n",
       "       [1., 0., 0.],\n",
       "       [0., 1., 0.],\n",
       "       [0., 1., 0.],\n",
       "       [0., 1., 0.],\n",
       "       [0., 1., 0.],\n",
       "       [0., 1., 0.],\n",
       "       [0., 1., 0.],\n",
       "       [0., 1., 0.],\n",
       "       [0., 1., 0.],\n",
       "       [0., 1., 0.],\n",
       "       [0., 1., 0.],\n",
       "       [0., 1., 0.],\n",
       "       [0., 1., 0.],\n",
       "       [0., 1., 0.],\n",
       "       [0., 1., 0.],\n",
       "       [0., 1., 0.],\n",
       "       [0., 1., 0.],\n",
       "       [0., 1., 0.],\n",
       "       [0., 1., 0.],\n",
       "       [0., 1., 0.],\n",
       "       [0., 1., 0.],\n",
       "       [0., 1., 0.],\n",
       "       [0., 1., 0.],\n",
       "       [0., 1., 0.],\n",
       "       [0., 1., 0.],\n",
       "       [0., 1., 0.],\n",
       "       [0., 1., 0.],\n",
       "       [0., 1., 0.],\n",
       "       [0., 1., 0.],\n",
       "       [0., 1., 0.],\n",
       "       [0., 1., 0.],\n",
       "       [0., 1., 0.],\n",
       "       [0., 1., 0.],\n",
       "       [0., 1., 0.],\n",
       "       [0., 1., 0.],\n",
       "       [0., 1., 0.],\n",
       "       [0., 1., 0.],\n",
       "       [0., 1., 0.],\n",
       "       [0., 1., 0.],\n",
       "       [0., 1., 0.],\n",
       "       [0., 1., 0.],\n",
       "       [0., 1., 0.],\n",
       "       [0., 1., 0.],\n",
       "       [0., 1., 0.],\n",
       "       [0., 1., 0.],\n",
       "       [0., 1., 0.],\n",
       "       [0., 1., 0.],\n",
       "       [0., 1., 0.],\n",
       "       [0., 1., 0.],\n",
       "       [0., 1., 0.],\n",
       "       [0., 1., 0.],\n",
       "       [0., 0., 1.],\n",
       "       [0., 0., 1.],\n",
       "       [0., 0., 1.],\n",
       "       [0., 0., 1.],\n",
       "       [0., 0., 1.],\n",
       "       [0., 0., 1.],\n",
       "       [0., 0., 1.],\n",
       "       [0., 0., 1.],\n",
       "       [0., 0., 1.],\n",
       "       [0., 0., 1.],\n",
       "       [0., 0., 1.],\n",
       "       [0., 0., 1.],\n",
       "       [0., 0., 1.],\n",
       "       [0., 0., 1.],\n",
       "       [0., 0., 1.],\n",
       "       [0., 0., 1.],\n",
       "       [0., 0., 1.],\n",
       "       [0., 0., 1.],\n",
       "       [0., 0., 1.],\n",
       "       [0., 0., 1.],\n",
       "       [0., 0., 1.],\n",
       "       [0., 0., 1.],\n",
       "       [0., 0., 1.],\n",
       "       [0., 0., 1.],\n",
       "       [0., 0., 1.],\n",
       "       [0., 0., 1.],\n",
       "       [0., 0., 1.],\n",
       "       [0., 0., 1.],\n",
       "       [0., 0., 1.],\n",
       "       [0., 0., 1.],\n",
       "       [0., 0., 1.],\n",
       "       [0., 0., 1.],\n",
       "       [0., 0., 1.],\n",
       "       [0., 0., 1.],\n",
       "       [0., 0., 1.],\n",
       "       [0., 0., 1.],\n",
       "       [0., 0., 1.],\n",
       "       [0., 0., 1.],\n",
       "       [0., 0., 1.],\n",
       "       [0., 0., 1.],\n",
       "       [0., 0., 1.],\n",
       "       [0., 0., 1.],\n",
       "       [0., 0., 1.],\n",
       "       [0., 0., 1.],\n",
       "       [0., 0., 1.],\n",
       "       [0., 0., 1.],\n",
       "       [0., 0., 1.],\n",
       "       [0., 0., 1.],\n",
       "       [0., 0., 1.],\n",
       "       [0., 0., 1.]], dtype=float32)"
      ]
     },
     "execution_count": 205,
     "metadata": {},
     "output_type": "execute_result"
    }
   ],
   "source": [
    "testY"
   ]
  },
  {
   "cell_type": "markdown",
   "metadata": {},
   "source": [
    "### Divide the dataset into Training and test (70:30)"
   ]
  },
  {
   "cell_type": "code",
   "execution_count": 206,
   "metadata": {},
   "outputs": [],
   "source": [
    "from sklearn.model_selection import train_test_split\n",
    "transformer = Normalizer()\n",
    "#features = transformer.fit_transform(features)\n",
    "\n",
    "train_x, test_x,train_y,test_y = train_test_split(features, testY, test_size=.3, random_state=7)"
   ]
  },
  {
   "cell_type": "markdown",
   "metadata": {},
   "source": [
    "### Model\n",
    "Build the model with following layers: <br>\n",
    "1. First dense layer with 10 neurons with input shape 4 (according to the feature set) <br>\n",
    "2. Second Dense layer with 8 neurons <br>\n",
    "3. Output layer with 3 neurons with softmax activation (output layer, 3 neurons as we have 3 classes) <br>\n",
    "4. Use SGD and categorical_crossentropy loss "
   ]
  },
  {
   "cell_type": "code",
   "execution_count": 207,
   "metadata": {},
   "outputs": [],
   "source": [
    "model = tf.keras.models.Sequential()\n",
    "model.add(tf.keras.layers.BatchNormalization())\n",
    "\n",
    "model.add(tf.keras.layers.Dense(10, activation='relu', input_shape=(4,)))\n",
    "model.add(tf.keras.layers.Dense(8, activation='relu'))\n",
    "model.add(tf.keras.layers.Dense(3, activation='softmax'))\n",
    "\n",
    "#Create optimizer with non-default learning rate\n",
    "sgd_optimizer = tf.keras.optimizers.SGD(lr=0.03)\n",
    "\n",
    "#Compile the model\n",
    "model.compile(optimizer=sgd_optimizer, loss='categorical_crossentropy', metrics=['accuracy'])"
   ]
  },
  {
   "cell_type": "markdown",
   "metadata": {},
   "source": [
    "### Fitting the model and predicting "
   ]
  },
  {
   "cell_type": "code",
   "execution_count": 212,
   "metadata": {},
   "outputs": [
    {
     "name": "stdout",
     "output_type": "stream",
     "text": [
      "Train on 84 samples, validate on 21 samples\n",
      "Epoch 1/30\n",
      "84/84 [==============================] - 1s 14ms/sample - loss: 1.0736 - acc: 0.2976 - val_loss: 1.2921 - val_acc: 0.3810\n",
      "Epoch 2/30\n",
      "84/84 [==============================] - 0s 262us/sample - loss: 1.0281 - acc: 0.2976 - val_loss: 1.1440 - val_acc: 0.3810\n",
      "Epoch 3/30\n",
      "84/84 [==============================] - 0s 262us/sample - loss: 0.9982 - acc: 0.2976 - val_loss: 1.0671 - val_acc: 0.3810\n",
      "Epoch 4/30\n",
      "84/84 [==============================] - 0s 297us/sample - loss: 0.9725 - acc: 0.3333 - val_loss: 1.0171 - val_acc: 0.3810\n",
      "Epoch 5/30\n",
      "84/84 [==============================] - 0s 202us/sample - loss: 0.9646 - acc: 0.4762 - val_loss: 0.9582 - val_acc: 0.3810\n",
      "Epoch 6/30\n",
      "84/84 [==============================] - 0s 309us/sample - loss: 0.9379 - acc: 0.5476 - val_loss: 0.9221 - val_acc: 0.3810\n",
      "Epoch 7/30\n",
      "84/84 [==============================] - 0s 202us/sample - loss: 0.9164 - acc: 0.6667 - val_loss: 0.8937 - val_acc: 0.3810\n",
      "Epoch 8/30\n",
      "84/84 [==============================] - 0s 238us/sample - loss: 0.8981 - acc: 0.7143 - val_loss: 0.8676 - val_acc: 0.3810\n",
      "Epoch 9/30\n",
      "84/84 [==============================] - 0s 214us/sample - loss: 0.8807 - acc: 0.7381 - val_loss: 0.8519 - val_acc: 0.6667\n",
      "Epoch 10/30\n",
      "84/84 [==============================] - 0s 321us/sample - loss: 0.8660 - acc: 0.7619 - val_loss: 0.8370 - val_acc: 0.7619\n",
      "Epoch 11/30\n",
      "84/84 [==============================] - 0s 297us/sample - loss: 0.8580 - acc: 0.7262 - val_loss: 0.8252 - val_acc: 0.8095\n",
      "Epoch 12/30\n",
      "84/84 [==============================] - 0s 405us/sample - loss: 0.8303 - acc: 0.7381 - val_loss: 0.8136 - val_acc: 0.8571\n",
      "Epoch 13/30\n",
      "84/84 [==============================] - 0s 167us/sample - loss: 0.8289 - acc: 0.7976 - val_loss: 0.8028 - val_acc: 0.9048\n",
      "Epoch 14/30\n",
      "84/84 [==============================] - 0s 381us/sample - loss: 0.8079 - acc: 0.7500 - val_loss: 0.7928 - val_acc: 0.9048\n",
      "Epoch 15/30\n",
      "84/84 [==============================] - 0s 226us/sample - loss: 0.8013 - acc: 0.7738 - val_loss: 0.7859 - val_acc: 0.9048\n",
      "Epoch 16/30\n",
      "84/84 [==============================] - 0s 274us/sample - loss: 0.7776 - acc: 0.7500 - val_loss: 0.7763 - val_acc: 0.9048\n",
      "Epoch 17/30\n",
      "84/84 [==============================] - 0s 286us/sample - loss: 0.7468 - acc: 0.7738 - val_loss: 0.7675 - val_acc: 0.9048\n",
      "Epoch 18/30\n",
      "84/84 [==============================] - 0s 369us/sample - loss: 0.7276 - acc: 0.7976 - val_loss: 0.7602 - val_acc: 0.8571\n",
      "Epoch 19/30\n",
      "84/84 [==============================] - 0s 274us/sample - loss: 0.7281 - acc: 0.7738 - val_loss: 0.7513 - val_acc: 0.9048\n",
      "Epoch 20/30\n",
      "84/84 [==============================] - 0s 262us/sample - loss: 0.7085 - acc: 0.7738 - val_loss: 0.7444 - val_acc: 0.8095\n",
      "Epoch 21/30\n",
      "84/84 [==============================] - 0s 250us/sample - loss: 0.6946 - acc: 0.7619 - val_loss: 0.7393 - val_acc: 0.8095\n",
      "Epoch 22/30\n",
      "84/84 [==============================] - 0s 238us/sample - loss: 0.6752 - acc: 0.7619 - val_loss: 0.7333 - val_acc: 0.8095\n",
      "Epoch 23/30\n",
      "84/84 [==============================] - 0s 190us/sample - loss: 0.6649 - acc: 0.7976 - val_loss: 0.7286 - val_acc: 0.7619\n",
      "Epoch 24/30\n",
      "84/84 [==============================] - 0s 190us/sample - loss: 0.6528 - acc: 0.8095 - val_loss: 0.7240 - val_acc: 0.6667\n",
      "Epoch 25/30\n",
      "84/84 [==============================] - 0s 155us/sample - loss: 0.6363 - acc: 0.8214 - val_loss: 0.7180 - val_acc: 0.6667\n",
      "Epoch 26/30\n",
      "84/84 [==============================] - 0s 202us/sample - loss: 0.6256 - acc: 0.7857 - val_loss: 0.7143 - val_acc: 0.6190\n",
      "Epoch 27/30\n",
      "84/84 [==============================] - 0s 250us/sample - loss: 0.6115 - acc: 0.7857 - val_loss: 0.7091 - val_acc: 0.6190\n",
      "Epoch 28/30\n",
      "84/84 [==============================] - 0s 416us/sample - loss: 0.5890 - acc: 0.7976 - val_loss: 0.7017 - val_acc: 0.6190\n",
      "Epoch 29/30\n",
      "84/84 [==============================] - 0s 274us/sample - loss: 0.5845 - acc: 0.8095 - val_loss: 0.6975 - val_acc: 0.6190\n",
      "Epoch 30/30\n",
      "84/84 [==============================] - 0s 226us/sample - loss: 0.5749 - acc: 0.8333 - val_loss: 0.6911 - val_acc: 0.6190\n"
     ]
    },
    {
     "data": {
      "text/plain": [
       "<tensorflow.python.keras.callbacks.History at 0x29dbad34c88>"
      ]
     },
     "execution_count": 212,
     "metadata": {},
     "output_type": "execute_result"
    }
   ],
   "source": [
    "#train model\n",
    "model.fit(train_x.values, train_y, validation_split=0.2, epochs=30)"
   ]
  },
  {
   "cell_type": "code",
   "execution_count": null,
   "metadata": {},
   "outputs": [],
   "source": []
  },
  {
   "cell_type": "markdown",
   "metadata": {},
   "source": [
    "### Report Accuracy of the predicted values"
   ]
  },
  {
   "cell_type": "code",
   "execution_count": 213,
   "metadata": {},
   "outputs": [
    {
     "name": "stdout",
     "output_type": "stream",
     "text": [
      "45/45 [==============================] - 0s 8ms/sample - loss: 0.7459 - acc: 0.6444\n"
     ]
    },
    {
     "data": {
      "text/plain": [
       "[0.7459042800797356, 0.64444447]"
      ]
     },
     "execution_count": 213,
     "metadata": {},
     "output_type": "execute_result"
    }
   ],
   "source": [
    "model.evaluate(test_x,test_y)"
   ]
  },
  {
   "cell_type": "code",
   "execution_count": 214,
   "metadata": {},
   "outputs": [
    {
     "name": "stdout",
     "output_type": "stream",
     "text": [
      "Model: \"sequential_7\"\n",
      "_________________________________________________________________\n",
      "Layer (type)                 Output Shape              Param #   \n",
      "=================================================================\n",
      "batch_normalization_7 (Batch multiple                  16        \n",
      "_________________________________________________________________\n",
      "dense_19 (Dense)             multiple                  50        \n",
      "_________________________________________________________________\n",
      "dense_20 (Dense)             multiple                  88        \n",
      "_________________________________________________________________\n",
      "dense_21 (Dense)             multiple                  27        \n",
      "=================================================================\n",
      "Total params: 181\n",
      "Trainable params: 173\n",
      "Non-trainable params: 8\n",
      "_________________________________________________________________\n"
     ]
    }
   ],
   "source": [
    "model.summary()"
   ]
  }
 ],
 "metadata": {
  "colab": {
   "name": "Linear+classification+using+Tensorflow+and+Keras.ipynb",
   "provenance": [],
   "version": "0.3.2"
  },
  "kernelspec": {
   "display_name": "Python 3",
   "language": "python",
   "name": "python3"
  },
  "language_info": {
   "codemirror_mode": {
    "name": "ipython",
    "version": 3
   },
   "file_extension": ".py",
   "mimetype": "text/x-python",
   "name": "python",
   "nbconvert_exporter": "python",
   "pygments_lexer": "ipython3",
   "version": "3.7.3"
  }
 },
 "nbformat": 4,
 "nbformat_minor": 1
}
