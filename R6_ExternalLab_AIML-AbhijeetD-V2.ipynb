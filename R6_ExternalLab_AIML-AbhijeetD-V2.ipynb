{
 "cells": [
  {
   "cell_type": "markdown",
   "metadata": {
    "colab_type": "text",
    "id": "YYk8NG3yOIT9"
   },
   "source": [
    "### A MNIST-like fashion product database\n",
    "\n",
    "In this, we classify the images into respective classes given in the dataset. We use a Neural Net and a Deep Neural Net in Keras to solve this and check the accuracy scores."
   ]
  },
  {
   "cell_type": "markdown",
   "metadata": {
    "colab_type": "text",
    "id": "tFO6PuxzOIT_",
    "slideshow": {
     "slide_type": "slide"
    }
   },
   "source": [
    "### Load tensorflow"
   ]
  },
  {
   "cell_type": "code",
   "execution_count": 26,
   "metadata": {
    "colab": {},
    "colab_type": "code",
    "id": "efNjNImfOIUC"
   },
   "outputs": [],
   "source": [
    "import tensorflow as tf\n",
    "tf.set_random_seed(42)"
   ]
  },
  {
   "cell_type": "code",
   "execution_count": 27,
   "metadata": {
    "colab": {},
    "colab_type": "code",
    "id": "l9C4aAIGOIUH",
    "outputId": "5ef9aff6-a7bd-4b26-cba6-8750955f6ca3"
   },
   "outputs": [
    {
     "data": {
      "text/plain": [
       "'1.14.0'"
      ]
     },
     "execution_count": 27,
     "metadata": {},
     "output_type": "execute_result"
    }
   ],
   "source": [
    "tf.__version__"
   ]
  },
  {
   "cell_type": "markdown",
   "metadata": {
    "colab_type": "text",
    "id": "HcoZBStrOIUQ",
    "slideshow": {
     "slide_type": "slide"
    }
   },
   "source": [
    "### Collect Data"
   ]
  },
  {
   "cell_type": "code",
   "execution_count": 28,
   "metadata": {
    "colab": {},
    "colab_type": "code",
    "id": "qnbx7TyQOIUY"
   },
   "outputs": [],
   "source": [
    "(trainX, trainY), (testX, testY) = tf.keras.datasets.fashion_mnist.load_data()"
   ]
  },
  {
   "cell_type": "code",
   "execution_count": 29,
   "metadata": {
    "colab": {},
    "colab_type": "code",
    "id": "UbiHj5YPOIUc",
    "outputId": "87e1b9cd-07f0-45cb-e706-0d51ad742d72",
    "slideshow": {
     "slide_type": "fragment"
    }
   },
   "outputs": [
    {
     "name": "stdout",
     "output_type": "stream",
     "text": [
      "[9 2 1 1 6]\n"
     ]
    }
   ],
   "source": [
    "print(testY[0:5])"
   ]
  },
  {
   "cell_type": "markdown",
   "metadata": {
    "colab_type": "text",
    "id": "lDAYzkwyOIUj",
    "slideshow": {
     "slide_type": "slide"
    }
   },
   "source": [
    "### Convert both training and testing labels into one-hot vectors.\n",
    "\n",
    "**Hint:** check **tf.keras.utils.to_categorical()**"
   ]
  },
  {
   "cell_type": "code",
   "execution_count": 30,
   "metadata": {
    "colab": {},
    "colab_type": "code",
    "id": "vBlfYlANOIUk"
   },
   "outputs": [],
   "source": [
    "trainY = tf.keras.utils.to_categorical(trainY, num_classes=10)\n",
    "testY = tf.keras.utils.to_categorical(testY, num_classes=10)"
   ]
  },
  {
   "cell_type": "code",
   "execution_count": 31,
   "metadata": {
    "colab": {},
    "colab_type": "code",
    "id": "RHV3b9mzOIUq",
    "outputId": "27bdfe58-91ee-4677-fe49-e742ad306c70",
    "scrolled": true,
    "slideshow": {
     "slide_type": "fragment"
    }
   },
   "outputs": [
    {
     "name": "stdout",
     "output_type": "stream",
     "text": [
      "(60000, 10)\n",
      "First 5 examples now are:  [[0. 0. 0. 0. 0. 0. 0. 0. 0. 1.]\n",
      " [1. 0. 0. 0. 0. 0. 0. 0. 0. 0.]\n",
      " [1. 0. 0. 0. 0. 0. 0. 0. 0. 0.]\n",
      " [0. 0. 0. 1. 0. 0. 0. 0. 0. 0.]\n",
      " [1. 0. 0. 0. 0. 0. 0. 0. 0. 0.]]\n"
     ]
    }
   ],
   "source": [
    "print(trainY.shape)\n",
    "print('First 5 examples now are: ', trainY[0:5])"
   ]
  },
  {
   "cell_type": "markdown",
   "metadata": {
    "colab_type": "text",
    "id": "FwhQ8e7VOIUw"
   },
   "source": [
    "### Visualize the data\n",
    "\n",
    "Plot first 10 images in the triaining set and their labels."
   ]
  },
  {
   "cell_type": "code",
   "execution_count": 32,
   "metadata": {},
   "outputs": [
    {
     "data": {
      "image/png": "[encoded data removed]",
      "text/plain": [
       "<Figure size 432x288 with 2 Axes>"
      ]
     },
     "metadata": {
      "needs_background": "light"
     },
     "output_type": "display_data"
    }
   ],
   "source": [
    "import matplotlib.pyplot as plt\n",
    "plt.figure()\n",
    "plt.imshow(trainX[0])\n",
    "plt.colorbar()\n",
    "plt.grid(False)\n",
    "plt.show()"
   ]
  },
  {
   "cell_type": "code",
   "execution_count": 33,
   "metadata": {},
   "outputs": [
    {
     "data": {
      "image/png": "[encoded data removed]",
      "text/plain": [
       "<Figure size 432x288 with 2 Axes>"
      ]
     },
     "metadata": {
      "needs_background": "light"
     },
     "output_type": "display_data"
    }
   ],
   "source": [
    "plt.figure()\n",
    "plt.imshow(trainX[1])\n",
    "plt.colorbar()\n",
    "plt.grid(False)\n",
    "plt.show()"
   ]
  },
  {
   "cell_type": "code",
   "execution_count": 34,
   "metadata": {},
   "outputs": [
    {
     "data": {
      "image/png": "[encoded data removed]",
      "text/plain": [
       "<Figure size 432x288 with 2 Axes>"
      ]
     },
     "metadata": {
      "needs_background": "light"
     },
     "output_type": "display_data"
    }
   ],
   "source": [
    "plt.figure()\n",
    "plt.imshow(trainX[2])\n",
    "plt.colorbar()\n",
    "plt.grid(False)\n",
    "plt.show()"
   ]
  },
  {
   "cell_type": "code",
   "execution_count": 35,
   "metadata": {},
   "outputs": [
    {
     "data": {
      "image/png": "[encoded data removed]",
      "text/plain": [
       "<Figure size 432x288 with 2 Axes>"
      ]
     },
     "metadata": {
      "needs_background": "light"
     },
     "output_type": "display_data"
    }
   ],
   "source": [
    "plt.figure()\n",
    "plt.imshow(trainX[3])\n",
    "plt.colorbar()\n",
    "plt.grid(False)\n",
    "plt.show()"
   ]
  },
  {
   "cell_type": "code",
   "execution_count": 36,
   "metadata": {},
   "outputs": [
    {
     "data": {
      "image/png": "[encoded data removed]",
      "text/plain": [
       "<Figure size 432x288 with 2 Axes>"
      ]
     },
     "metadata": {
      "needs_background": "light"
     },
     "output_type": "display_data"
    }
   ],
   "source": [
    "plt.figure()\n",
    "plt.imshow(trainX[4])\n",
    "plt.colorbar()\n",
    "plt.grid(False)\n",
    "plt.show()"
   ]
  },
  {
   "cell_type": "code",
   "execution_count": 37,
   "metadata": {},
   "outputs": [
    {
     "data": {
      "image/png": "[encoded data removed]",
      "text/plain": [
       "<Figure size 432x288 with 2 Axes>"
      ]
     },
     "metadata": {
      "needs_background": "light"
     },
     "output_type": "display_data"
    }
   ],
   "source": [
    "plt.figure()\n",
    "plt.imshow(trainX[5])\n",
    "plt.colorbar()\n",
    "plt.grid(False)\n",
    "plt.show()"
   ]
  },
  {
   "cell_type": "code",
   "execution_count": 38,
   "metadata": {},
   "outputs": [
    {
     "data": {
      "image/png": "[encoded data removed]",
      "text/plain": [
       "<Figure size 432x288 with 2 Axes>"
      ]
     },
     "metadata": {
      "needs_background": "light"
     },
     "output_type": "display_data"
    }
   ],
   "source": [
    "plt.figure()\n",
    "plt.imshow(trainX[6])\n",
    "plt.colorbar()\n",
    "plt.grid(False)\n",
    "plt.show()"
   ]
  },
  {
   "cell_type": "code",
   "execution_count": 39,
   "metadata": {},
   "outputs": [
    {
     "data": {
      "image/png": "[encoded data removed]",
      "text/plain": [
       "<Figure size 432x288 with 2 Axes>"
      ]
     },
     "metadata": {
      "needs_background": "light"
     },
     "output_type": "display_data"
    }
   ],
   "source": [
    "plt.figure()\n",
    "plt.imshow(trainX[7])\n",
    "plt.colorbar()\n",
    "plt.grid(False)\n",
    "plt.show()"
   ]
  },
  {
   "cell_type": "code",
   "execution_count": 40,
   "metadata": {},
   "outputs": [
    {
     "data": {
      "image/png": "[encoded data removed]",
      "text/plain": [
       "<Figure size 432x288 with 2 Axes>"
      ]
     },
     "metadata": {
      "needs_background": "light"
     },
     "output_type": "display_data"
    }
   ],
   "source": [
    "plt.figure()\n",
    "plt.imshow(trainX[8])\n",
    "plt.colorbar()\n",
    "plt.grid(False)\n",
    "plt.show()"
   ]
  },
  {
   "cell_type": "code",
   "execution_count": 41,
   "metadata": {},
   "outputs": [
    {
     "data": {
      "image/png": "[encoded data removed]",
      "text/plain": [
       "<Figure size 720x720 with 10 Axes>"
      ]
     },
     "metadata": {},
     "output_type": "display_data"
    }
   ],
   "source": [
    "plt.figure(figsize=(10,10))\n",
    "for i in range(10):\n",
    "   plt.subplot(5,5,i+1)\n",
    "   plt.xticks([])\n",
    "   plt.yticks([])\n",
    "   plt.grid(False)\n",
    "   plt.imshow(trainX[i], cmap=plt.cm.binary)\n",
    "plt.show()"
   ]
  },
  {
   "cell_type": "code",
   "execution_count": 9,
   "metadata": {
    "colab": {},
    "colab_type": "code",
    "id": "AvDML2OoOIUx",
    "outputId": "9dafc94e-61a8-4089-be03-d143163d68aa"
   },
   "outputs": [
    {
     "name": "stdout",
     "output_type": "stream",
     "text": [
      "(60000, 10)\n",
      "First 10 examples now are:  [[[  0   0   0 ...   0   0   0]\n",
      "  [  0   0   0 ...   0   0   0]\n",
      "  [  0   0   0 ...   0   0   0]\n",
      "  ...\n",
      "  [  0   0   0 ...   0   0   0]\n",
      "  [  0   0   0 ...   0   0   0]\n",
      "  [  0   0   0 ...   0   0   0]]\n",
      "\n",
      " [[  0   0   0 ...   0   0   0]\n",
      "  [  0   0   0 ...   0   0   0]\n",
      "  [  0   0   0 ...   0   0   0]\n",
      "  ...\n",
      "  [  0   0   0 ...   0   0   0]\n",
      "  [  0   0   0 ...   0   0   0]\n",
      "  [  0   0   0 ...   0   0   0]]\n",
      "\n",
      " [[  0   0   0 ...   0   0   0]\n",
      "  [  0   0   0 ...   0   0   0]\n",
      "  [  0   0   0 ...   0   0   0]\n",
      "  ...\n",
      "  [  0   0   0 ...   0   0   0]\n",
      "  [  0   0   0 ...   0   0   0]\n",
      "  [  0   0   0 ...   0   0   0]]\n",
      "\n",
      " ...\n",
      "\n",
      " [[  0   0   0 ...   0   0   0]\n",
      "  [  0   0   0 ...   0   0   0]\n",
      "  [  0   0   0 ...  39   1   0]\n",
      "  ...\n",
      "  [  0   0   0 ... 238   0   0]\n",
      "  [  0   0   0 ... 131   0   0]\n",
      "  [  0   0   0 ...   0   0   0]]\n",
      "\n",
      " [[  0   0   0 ...   0   0   0]\n",
      "  [  0   0   0 ...   0   0   0]\n",
      "  [  0   0   0 ...   7   0   0]\n",
      "  ...\n",
      "  [  0   0   0 ...   0   9   0]\n",
      "  [  0   0   0 ...   0   3   0]\n",
      "  [  0   0   0 ...   0   0   0]]\n",
      "\n",
      " [[  0   0   0 ...   0   0   0]\n",
      "  [  0   0   0 ...   0   0   0]\n",
      "  [  0   0   0 ...   0   0   0]\n",
      "  ...\n",
      "  [  0   0   0 ...   0   0   0]\n",
      "  [  0   0   0 ...   0   0   0]\n",
      "  [  0   0   0 ...   0   0   0]]] [[0. 0. 0. 0. 0. 0. 0. 0. 0. 1.]\n",
      " [1. 0. 0. 0. 0. 0. 0. 0. 0. 0.]\n",
      " [1. 0. 0. 0. 0. 0. 0. 0. 0. 0.]\n",
      " [0. 0. 0. 1. 0. 0. 0. 0. 0. 0.]\n",
      " [1. 0. 0. 0. 0. 0. 0. 0. 0. 0.]\n",
      " [0. 0. 1. 0. 0. 0. 0. 0. 0. 0.]\n",
      " [0. 0. 0. 0. 0. 0. 0. 1. 0. 0.]\n",
      " [0. 0. 1. 0. 0. 0. 0. 0. 0. 0.]\n",
      " [0. 0. 0. 0. 0. 1. 0. 0. 0. 0.]\n",
      " [0. 0. 0. 0. 0. 1. 0. 0. 0. 0.]\n",
      " [1. 0. 0. 0. 0. 0. 0. 0. 0. 0.]]\n"
     ]
    }
   ],
   "source": [
    "\n",
    "print(trainY.shape)\n",
    "print('First 10 examples now are: ',trainX[0:11] ,trainY[0:11])"
   ]
  },
  {
   "cell_type": "markdown",
   "metadata": {
    "colab_type": "text",
    "id": "l4TbJGeSOIU4",
    "slideshow": {
     "slide_type": "slide"
    }
   },
   "source": [
    "### Build a neural Network with a cross entropy loss function and sgd optimizer in Keras. The output layer with 10 neurons as we have 10 classes."
   ]
  },
  {
   "cell_type": "code",
   "execution_count": 49,
   "metadata": {
    "colab": {},
    "colab_type": "code",
    "id": "Ac06XZZTOIU6"
   },
   "outputs": [],
   "source": [
    "#Initialize Sequential model\n",
    "model = tf.keras.models.Sequential()\n",
    "\n",
    "#Reshape data from 2D to 1D -> 28x28 to 784\n",
    "model.add(tf.keras.layers.Reshape((784,),input_shape=(28,28,)))\n",
    "\n",
    "#Add Dense Layer which provides 10 Outputs after applying softmax\n",
    "model.add(tf.keras.layers.Dense(10, activation='softmax'))\n",
    "\n",
    "#Comile the model\n",
    "model.compile(optimizer='sgd', loss='categorical_crossentropy', metrics=['accuracy'])"
   ]
  },
  {
   "cell_type": "markdown",
   "metadata": {
    "colab_type": "text",
    "id": "3hQpLv3aOIU_",
    "slideshow": {
     "slide_type": "slide"
    }
   },
   "source": [
    "### Execute the model using model.fit()"
   ]
  },
  {
   "cell_type": "code",
   "execution_count": 50,
   "metadata": {
    "colab": {},
    "colab_type": "code",
    "id": "O59C_-IgOIVB"
   },
   "outputs": [
    {
     "name": "stdout",
     "output_type": "stream",
     "text": [
      "Train on 60000 samples, validate on 10000 samples\n",
      "Epoch 1/30\n",
      "60000/60000 [==============================] - 1s 15us/sample - loss: 258.2163 - acc: 0.1218 - val_loss: 6845.7295 - val_acc: 0.2141\n",
      "Epoch 2/30\n",
      "60000/60000 [==============================] - 1s 11us/sample - loss: 6820.4419 - acc: 0.2141 - val_loss: 13441.7471 - val_acc: 0.3355\n",
      "Epoch 3/30\n",
      "60000/60000 [==============================] - 1s 11us/sample - loss: 13369.1055 - acc: 0.3403 - val_loss: 13686.7090 - val_acc: 0.1991\n",
      "Epoch 4/30\n",
      "60000/60000 [==============================] - 1s 11us/sample - loss: 13625.1240 - acc: 0.2002 - val_loss: 15322.4404 - val_acc: 0.2999\n",
      "Epoch 5/30\n",
      "60000/60000 [==============================] - 1s 11us/sample - loss: 15295.3164 - acc: 0.3037 - val_loss: 11975.2803 - val_acc: 0.2841\n",
      "Epoch 6/30\n",
      "60000/60000 [==============================] - 1s 11us/sample - loss: 11918.2861 - acc: 0.2839 - val_loss: 13649.6963 - val_acc: 0.2030\n",
      "Epoch 7/30\n",
      "60000/60000 [==============================] - 1s 11us/sample - loss: 13568.4736 - acc: 0.2033 - val_loss: 13092.7168 - val_acc: 0.3604\n",
      "Epoch 8/30\n",
      "60000/60000 [==============================] - 1s 12us/sample - loss: 13015.3242 - acc: 0.3611 - val_loss: 14000.7891 - val_acc: 0.2451\n",
      "Epoch 9/30\n",
      "60000/60000 [==============================] - 1s 11us/sample - loss: 13947.0303 - acc: 0.2474 - val_loss: 10592.4492 - val_acc: 0.4126\n",
      "Epoch 10/30\n",
      "60000/60000 [==============================] - 1s 11us/sample - loss: 10528.4951 - acc: 0.4151 - val_loss: 6676.9282 - val_acc: 0.3413\n",
      "Epoch 11/30\n",
      "60000/60000 [==============================] - 1s 11us/sample - loss: 6626.8716 - acc: 0.3423 - val_loss: 5260.2622 - val_acc: 0.4451\n",
      "Epoch 12/30\n",
      "60000/60000 [==============================] - 1s 11us/sample - loss: 5201.6597 - acc: 0.4538 - val_loss: 5522.3599 - val_acc: 0.3732\n",
      "Epoch 13/30\n",
      "60000/60000 [==============================] - 1s 10us/sample - loss: 5445.9092 - acc: 0.3781 - val_loss: 6061.5674 - val_acc: 0.4149\n",
      "Epoch 14/30\n",
      "60000/60000 [==============================] - 1s 10us/sample - loss: 6008.9375 - acc: 0.4144 - val_loss: 7009.3896 - val_acc: 0.4368\n",
      "Epoch 15/30\n",
      "60000/60000 [==============================] - 1s 11us/sample - loss: 6932.9194 - acc: 0.4397 - val_loss: 4587.5200 - val_acc: 0.5290\n",
      "Epoch 16/30\n",
      "60000/60000 [==============================] - 1s 10us/sample - loss: 4570.9058 - acc: 0.5280 - val_loss: 1991.6580 - val_acc: 0.5786\n",
      "Epoch 17/30\n",
      "60000/60000 [==============================] - 1s 11us/sample - loss: 1942.9432 - acc: 0.5925 - val_loss: 1372.2260 - val_acc: 0.6008\n",
      "Epoch 18/30\n",
      "60000/60000 [==============================] - 1s 12us/sample - loss: 1344.7426 - acc: 0.6101 - val_loss: 2977.8320 - val_acc: 0.5152\n",
      "Epoch 19/30\n",
      "60000/60000 [==============================] - 1s 11us/sample - loss: 2874.8401 - acc: 0.5209 - val_loss: 4264.4834 - val_acc: 0.6526\n",
      "Epoch 20/30\n",
      "60000/60000 [==============================] - 1s 11us/sample - loss: 4216.5400 - acc: 0.6656 - val_loss: 3739.4961 - val_acc: 0.6405\n",
      "Epoch 21/30\n",
      "60000/60000 [==============================] - 1s 11us/sample - loss: 3703.5696 - acc: 0.6450 - val_loss: 4005.0276 - val_acc: 0.6487\n",
      "Epoch 22/30\n",
      "60000/60000 [==============================] - 1s 11us/sample - loss: 3939.2087 - acc: 0.6557 - val_loss: 2002.4420 - val_acc: 0.6509\n",
      "Epoch 23/30\n",
      "60000/60000 [==============================] - 1s 11us/sample - loss: 1976.4152 - acc: 0.6498 - val_loss: 3103.0618 - val_acc: 0.5361\n",
      "Epoch 24/30\n",
      "60000/60000 [==============================] - 1s 11us/sample - loss: 2999.4370 - acc: 0.5422 - val_loss: 4115.6582 - val_acc: 0.6412\n",
      "Epoch 25/30\n",
      "60000/60000 [==============================] - 1s 11us/sample - loss: 4067.8347 - acc: 0.6438 - val_loss: 4995.0493 - val_acc: 0.5977\n",
      "Epoch 26/30\n",
      "60000/60000 [==============================] - 1s 11us/sample - loss: 4931.4087 - acc: 0.6063 - val_loss: 3689.0215 - val_acc: 0.6653\n",
      "Epoch 27/30\n",
      "60000/60000 [==============================] - 1s 12us/sample - loss: 3626.8591 - acc: 0.6693 - val_loss: 1267.6608 - val_acc: 0.6399\n",
      "Epoch 28/30\n",
      "60000/60000 [==============================] - 1s 12us/sample - loss: 1229.5142 - acc: 0.6474 - val_loss: 1571.5544 - val_acc: 0.6459\n",
      "Epoch 29/30\n",
      "60000/60000 [==============================] - 1s 11us/sample - loss: 1531.4678 - acc: 0.6559 - val_loss: 1096.3004 - val_acc: 0.6759\n",
      "Epoch 30/30\n",
      "60000/60000 [==============================] - 1s 11us/sample - loss: 1032.0509 - acc: 0.6898 - val_loss: 2318.8120 - val_acc: 0.6887\n"
     ]
    },
    {
     "data": {
      "text/plain": [
       "<tensorflow.python.keras.callbacks.History at 0x18933639908>"
      ]
     },
     "execution_count": 50,
     "metadata": {},
     "output_type": "execute_result"
    }
   ],
   "source": [
    "\n",
    "model.fit(trainX, trainY, \n",
    "          validation_data=(testX, testY), \n",
    "          epochs=30,\n",
    "          batch_size=trainX.shape[0])"
   ]
  },
  {
   "cell_type": "markdown",
   "metadata": {
    "colab_type": "text",
    "id": "JdzDtGwDOIVF",
    "slideshow": {
     "slide_type": "slide"
    }
   },
   "source": [
    "### In the above Neural Network model add Batch Normalization layer after the input layer and repeat the steps."
   ]
  },
  {
   "cell_type": "code",
   "execution_count": 51,
   "metadata": {
    "colab": {},
    "colab_type": "code",
    "id": "kndfpdidOIVI"
   },
   "outputs": [],
   "source": [
    "model.add(tf.keras.layers.BatchNormalization())"
   ]
  },
  {
   "cell_type": "code",
   "execution_count": 52,
   "metadata": {},
   "outputs": [
    {
     "name": "stdout",
     "output_type": "stream",
     "text": [
      "Train on 60000 samples, validate on 10000 samples\n",
      "Epoch 1/30\n",
      "60000/60000 [==============================] - 8s 135us/sample - loss: 5.8999 - acc: 0.6074 - val_loss: 10.7066 - val_acc: 0.3838\n",
      "Epoch 2/30\n",
      "60000/60000 [==============================] - 8s 129us/sample - loss: 7.5130 - acc: 0.1724 - val_loss: 12.0634 - val_acc: 0.1021\n",
      "Epoch 3/30\n",
      "60000/60000 [==============================] - 8s 132us/sample - loss: 11.8862 - acc: 0.1132 - val_loss: 11.4339 - val_acc: 0.1064\n",
      "Epoch 4/30\n",
      "60000/60000 [==============================] - 8s 134us/sample - loss: 11.4234 - acc: 0.1043 - val_loss: 11.1828 - val_acc: 0.1030\n",
      "Epoch 5/30\n",
      "60000/60000 [==============================] - 8s 135us/sample - loss: 11.1635 - acc: 0.1026 - val_loss: 11.1274 - val_acc: 0.1016\n",
      "Epoch 6/30\n",
      "60000/60000 [==============================] - 8s 129us/sample - loss: 10.6705 - acc: 0.1047 - val_loss: 8.1558 - val_acc: 0.1352\n",
      "Epoch 7/30\n",
      "60000/60000 [==============================] - 9s 146us/sample - loss: 8.9967 - acc: 0.1020 - val_loss: 8.9270 - val_acc: 0.0999\n",
      "Epoch 8/30\n",
      "60000/60000 [==============================] - 9s 154us/sample - loss: 8.8869 - acc: 0.1000 - val_loss: 8.8517 - val_acc: 0.0999\n",
      "Epoch 9/30\n",
      "60000/60000 [==============================] - 12s 194us/sample - loss: 8.8237 - acc: 0.1000 - val_loss: 8.7957 - val_acc: 0.0999\n",
      "Epoch 10/30\n",
      "60000/60000 [==============================] - 8s 125us/sample - loss: 8.7703 - acc: 0.1000 - val_loss: 8.7429 - val_acc: 0.0999\n",
      "Epoch 11/30\n",
      "60000/60000 [==============================] - 7s 116us/sample - loss: 8.7172 - acc: 0.1000 - val_loss: 8.6893 - val_acc: 0.0999\n",
      "Epoch 12/30\n",
      "60000/60000 [==============================] - 7s 116us/sample - loss: 8.6574 - acc: 0.1000 - val_loss: 8.6221 - val_acc: 0.0999\n",
      "Epoch 13/30\n",
      "60000/60000 [==============================] - 7s 114us/sample - loss: 8.5786 - acc: 0.1000 - val_loss: 8.5259 - val_acc: 0.0999\n",
      "Epoch 14/30\n",
      "60000/60000 [==============================] - 7s 119us/sample - loss: 8.4294 - acc: 0.1000 - val_loss: 8.2625 - val_acc: 0.0999\n",
      "Epoch 15/30\n",
      "60000/60000 [==============================] - 7s 122us/sample - loss: 8.0816 - acc: 0.1000 - val_loss: 8.0580 - val_acc: 0.0999\n",
      "Epoch 16/30\n",
      "60000/60000 [==============================] - 7s 124us/sample - loss: 8.0599 - acc: 0.1000 - val_loss: 8.0580 - val_acc: 0.0999\n",
      "Epoch 17/30\n",
      "60000/60000 [==============================] - 7s 123us/sample - loss: 8.0598 - acc: 0.1000 - val_loss: 8.0578 - val_acc: 0.0999\n",
      "Epoch 18/30\n",
      "60000/60000 [==============================] - 8s 125us/sample - loss: 8.0597 - acc: 0.1000 - val_loss: 8.0578 - val_acc: 0.0999\n",
      "Epoch 19/30\n",
      "60000/60000 [==============================] - 7s 124us/sample - loss: 8.0596 - acc: 0.1000 - val_loss: 8.0578 - val_acc: 0.0999\n",
      "Epoch 20/30\n",
      "60000/60000 [==============================] - 8s 135us/sample - loss: 8.0596 - acc: 0.1000 - val_loss: 8.0578 - val_acc: 0.0999\n",
      "Epoch 21/30\n",
      "60000/60000 [==============================] - 8s 128us/sample - loss: 8.0596 - acc: 0.1000 - val_loss: 8.0578 - val_acc: 0.0999\n",
      "Epoch 22/30\n",
      "60000/60000 [==============================] - 8s 129us/sample - loss: 8.0596 - acc: 0.1000 - val_loss: 8.0578 - val_acc: 0.0999\n",
      "Epoch 23/30\n",
      "60000/60000 [==============================] - 8s 133us/sample - loss: 8.0596 - acc: 0.1000 - val_loss: 8.0578 - val_acc: 0.0999\n",
      "Epoch 24/30\n",
      "60000/60000 [==============================] - 8s 133us/sample - loss: 8.0596 - acc: 0.1000 - val_loss: 8.0578 - val_acc: 0.0999\n",
      "Epoch 25/30\n",
      "60000/60000 [==============================] - 8s 135us/sample - loss: 8.0595 - acc: 0.1000 - val_loss: 8.0578 - val_acc: 0.0999\n",
      "Epoch 26/30\n",
      "60000/60000 [==============================] - 8s 132us/sample - loss: 8.0595 - acc: 0.1000 - val_loss: 8.0578 - val_acc: 0.0999\n",
      "Epoch 27/30\n",
      "60000/60000 [==============================] - 8s 132us/sample - loss: 8.0596 - acc: 0.1000 - val_loss: 8.0578 - val_acc: 0.0999\n",
      "Epoch 28/30\n",
      "60000/60000 [==============================] - 7s 125us/sample - loss: 8.0595 - acc: 0.1000 - val_loss: 8.0578 - val_acc: 0.0999\n",
      "Epoch 29/30\n",
      "60000/60000 [==============================] - 8s 129us/sample - loss: 8.0595 - acc: 0.1000 - val_loss: 8.0578 - val_acc: 0.0999\n",
      "Epoch 30/30\n",
      "60000/60000 [==============================] - 16s 259us/sample - loss: 8.0595 - acc: 0.1000 - val_loss: 8.0578 - val_acc: 0.0999\n"
     ]
    },
    {
     "data": {
      "text/plain": [
       "<tensorflow.python.keras.callbacks.History at 0x1893379b1d0>"
      ]
     },
     "execution_count": 52,
     "metadata": {},
     "output_type": "execute_result"
    }
   ],
   "source": [
    "model.fit(trainX, trainY, \n",
    "          validation_data=(testX, testY), \n",
    "          epochs=30,\n",
    "          batch_size=32)"
   ]
  },
  {
   "cell_type": "code",
   "execution_count": 53,
   "metadata": {},
   "outputs": [
    {
     "name": "stdout",
     "output_type": "stream",
     "text": [
      "Model: \"sequential_3\"\n",
      "_________________________________________________________________\n",
      "Layer (type)                 Output Shape              Param #   \n",
      "=================================================================\n",
      "reshape_3 (Reshape)          (None, 784)               0         \n",
      "_________________________________________________________________\n",
      "dense_4 (Dense)              (None, 10)                7850      \n",
      "_________________________________________________________________\n",
      "batch_normalization_3 (Batch (None, 10)                40        \n",
      "=================================================================\n",
      "Total params: 7,890\n",
      "Trainable params: 7,870\n",
      "Non-trainable params: 20\n",
      "_________________________________________________________________\n"
     ]
    }
   ],
   "source": [
    "model.summary()"
   ]
  },
  {
   "cell_type": "markdown",
   "metadata": {
    "colab_type": "text",
    "id": "mwk3T5LJOIVN",
    "slideshow": {
     "slide_type": "slide"
    }
   },
   "source": [
    "### Execute the model"
   ]
  },
  {
   "cell_type": "markdown",
   "metadata": {
    "colab_type": "text",
    "id": "Py-KwkmjOIVU"
   },
   "source": [
    "### Customize the learning rate to 0.001 in sgd optimizer and run the model"
   ]
  },
  {
   "cell_type": "code",
   "execution_count": 54,
   "metadata": {},
   "outputs": [],
   "source": [
    "sgd_optimizer = tf.keras.optimizers.SGD(lr=0.001)\n",
    "model.compile(optimizer=sgd_optimizer, loss='mse')"
   ]
  },
  {
   "cell_type": "code",
   "execution_count": 55,
   "metadata": {
    "colab": {},
    "colab_type": "code",
    "id": "yLXUE9jWOIVV"
   },
   "outputs": [
    {
     "name": "stdout",
     "output_type": "stream",
     "text": [
      "Train on 60000 samples, validate on 10000 samples\n",
      "Epoch 1/30\n",
      "60000/60000 [==============================] - 10s 161us/sample - loss: 43.0509 - val_loss: 29.6169\n",
      "Epoch 2/30\n",
      "60000/60000 [==============================] - 8s 140us/sample - loss: 20.3943 - val_loss: 14.4024\n",
      "Epoch 3/30\n",
      "60000/60000 [==============================] - 7s 116us/sample - loss: 9.6928 - val_loss: 7.2177\n",
      "Epoch 4/30\n",
      "60000/60000 [==============================] - 7s 110us/sample - loss: 4.6380 - val_loss: 3.7687\n",
      "Epoch 5/30\n",
      "60000/60000 [==============================] - 7s 109us/sample - loss: 2.2504 - val_loss: 2.2406\n",
      "Epoch 6/30\n",
      "60000/60000 [==============================] - 6s 106us/sample - loss: 1.1227 - val_loss: 1.4254\n",
      "Epoch 7/30\n",
      "60000/60000 [==============================] - 6s 106us/sample - loss: 0.5900 - val_loss: 0.9440\n",
      "Epoch 8/30\n",
      "60000/60000 [==============================] - 7s 110us/sample - loss: 0.3385 - val_loss: 0.8767\n",
      "Epoch 9/30\n",
      "60000/60000 [==============================] - 6s 103us/sample - loss: 0.2196 - val_loss: 0.8196\n",
      "Epoch 10/30\n",
      "60000/60000 [==============================] - 7s 111us/sample - loss: 0.1634 - val_loss: 0.8568\n",
      "Epoch 11/30\n",
      "60000/60000 [==============================] - 6s 105us/sample - loss: 0.1368 - val_loss: 0.6583\n",
      "Epoch 12/30\n",
      "60000/60000 [==============================] - 6s 105us/sample - loss: 0.1243 - val_loss: 0.7696\n",
      "Epoch 13/30\n",
      "60000/60000 [==============================] - 7s 114us/sample - loss: 0.1183 - val_loss: 0.8225\n",
      "Epoch 14/30\n",
      "60000/60000 [==============================] - 6s 108us/sample - loss: 0.1154 - val_loss: 0.8217\n",
      "Epoch 15/30\n",
      "60000/60000 [==============================] - 6s 107us/sample - loss: 0.1141 - val_loss: 0.8194\n",
      "Epoch 16/30\n",
      "60000/60000 [==============================] - 6s 106us/sample - loss: 0.1134 - val_loss: 0.8114\n",
      "Epoch 17/30\n",
      "60000/60000 [==============================] - 9s 144us/sample - loss: 0.1131 - val_loss: 0.7513\n",
      "Epoch 18/30\n",
      "60000/60000 [==============================] - 7s 112us/sample - loss: 0.1129 - val_loss: 0.7251\n",
      "Epoch 19/30\n",
      "60000/60000 [==============================] - 7s 120us/sample - loss: 0.1128 - val_loss: 0.7861\n",
      "Epoch 20/30\n",
      "60000/60000 [==============================] - 6s 107us/sample - loss: 0.1127 - val_loss: 0.7551\n",
      "Epoch 21/30\n",
      "60000/60000 [==============================] - 7s 109us/sample - loss: 0.1126 - val_loss: 0.7273\n",
      "Epoch 22/30\n",
      "60000/60000 [==============================] - 7s 110us/sample - loss: 0.1126 - val_loss: 0.8056\n",
      "Epoch 23/30\n",
      "60000/60000 [==============================] - 7s 109us/sample - loss: 0.1125 - val_loss: 0.8048\n",
      "Epoch 24/30\n",
      "60000/60000 [==============================] - 7s 109us/sample - loss: 0.1124 - val_loss: 0.6676\n",
      "Epoch 25/30\n",
      "60000/60000 [==============================] - 7s 110us/sample - loss: 0.1124 - val_loss: 0.6655\n",
      "Epoch 26/30\n",
      "60000/60000 [==============================] - 7s 114us/sample - loss: 0.1123 - val_loss: 0.7339\n",
      "Epoch 27/30\n",
      "60000/60000 [==============================] - 7s 111us/sample - loss: 0.1122 - val_loss: 0.7953\n",
      "Epoch 28/30\n",
      "60000/60000 [==============================] - 7s 113us/sample - loss: 0.1122 - val_loss: 0.7368\n",
      "Epoch 29/30\n",
      "60000/60000 [==============================] - 8s 125us/sample - loss: 0.1122 - val_loss: 0.7959\n",
      "Epoch 30/30\n",
      "60000/60000 [==============================] - 7s 115us/sample - loss: 0.1121 - val_loss: 0.7929\n"
     ]
    },
    {
     "data": {
      "text/plain": [
       "<tensorflow.python.keras.callbacks.History at 0x189332fc748>"
      ]
     },
     "execution_count": 55,
     "metadata": {},
     "output_type": "execute_result"
    }
   ],
   "source": [
    "model.fit(trainX, trainY, \n",
    "          validation_data=(testX, testY), \n",
    "          epochs=30,\n",
    "          batch_size=32)"
   ]
  },
  {
   "cell_type": "markdown",
   "metadata": {
    "colab_type": "text",
    "id": "j9CSqKvpOIVk",
    "slideshow": {
     "slide_type": "slide"
    }
   },
   "source": [
    "### Build the Neural Network model with 3 Dense layers with 100,100,10 neurons respectively in each layer. Use cross entropy loss function and singmoid as activation in the hidden layers and softmax as activation function in the output layer. Use sgd optimizer with learning rate 0.03."
   ]
  },
  {
   "cell_type": "code",
   "execution_count": 56,
   "metadata": {
    "colab": {},
    "colab_type": "code",
    "id": "GGAad54JOIVm"
   },
   "outputs": [],
   "source": [
    "model = tf.keras.models.Sequential()\n",
    "#Reshape data from 2D to 1D -> 28x28 to 784\n",
    "model.add(tf.keras.layers.Reshape((784,),input_shape=(28,28,)))\n",
    "\n",
    "#Normalize the data\n",
    "model.add(tf.keras.layers.BatchNormalization())"
   ]
  },
  {
   "cell_type": "code",
   "execution_count": 57,
   "metadata": {
    "colab": {},
    "colab_type": "code",
    "id": "MQ7oIymROIVp"
   },
   "outputs": [],
   "source": [
    "#Add 1st hidden layer\n",
    "model.add(tf.keras.layers.Dense(100, activation='relu'))\n",
    "#Add 2nd hidden layer\n",
    "model.add(tf.keras.layers.Dense(100, activation='relu'))\n",
    "\n",
    "#Add Dense Layer which provides 10 Outputs after applying softmax\n",
    "model.add(tf.keras.layers.Dense(10, activation='softmax'))"
   ]
  },
  {
   "cell_type": "code",
   "execution_count": 58,
   "metadata": {
    "colab": {},
    "colab_type": "code",
    "id": "X-O-fFxnOIVt"
   },
   "outputs": [],
   "source": [
    "sgd_optimizer = tf.keras.optimizers.SGD(lr=0.03)\n",
    "\n",
    "model.compile(optimizer=sgd_optimizer, loss='categorical_crossentropy', metrics=['accuracy'])"
   ]
  },
  {
   "cell_type": "code",
   "execution_count": 59,
   "metadata": {
    "colab": {},
    "colab_type": "code",
    "id": "BiP7IL52OIVw"
   },
   "outputs": [
    {
     "name": "stdout",
     "output_type": "stream",
     "text": [
      "Train on 60000 samples, validate on 10000 samples\n",
      "Epoch 1/30\n",
      "60000/60000 [==============================] - 11s 190us/sample - loss: 0.4957 - acc: 0.8201 - val_loss: 0.4052 - val_acc: 0.8527\n",
      "Epoch 2/30\n",
      "60000/60000 [==============================] - 10s 171us/sample - loss: 0.3788 - acc: 0.8622 - val_loss: 0.3821 - val_acc: 0.8632\n",
      "Epoch 3/30\n",
      "60000/60000 [==============================] - 10s 172us/sample - loss: 0.3411 - acc: 0.8751 - val_loss: 0.3710 - val_acc: 0.8668\n",
      "Epoch 4/30\n",
      "60000/60000 [==============================] - 10s 162us/sample - loss: 0.3186 - acc: 0.8817 - val_loss: 0.3548 - val_acc: 0.8750\n",
      "Epoch 5/30\n",
      "60000/60000 [==============================] - 10s 163us/sample - loss: 0.3005 - acc: 0.8884 - val_loss: 0.3534 - val_acc: 0.8738\n",
      "Epoch 6/30\n",
      "60000/60000 [==============================] - 10s 166us/sample - loss: 0.2850 - acc: 0.8935 - val_loss: 0.3493 - val_acc: 0.8797\n",
      "Epoch 7/30\n",
      "60000/60000 [==============================] - 10s 165us/sample - loss: 0.2724 - acc: 0.8986 - val_loss: 0.3620 - val_acc: 0.8761\n",
      "Epoch 8/30\n",
      "60000/60000 [==============================] - 10s 173us/sample - loss: 0.2623 - acc: 0.9015 - val_loss: 0.3508 - val_acc: 0.8794\n",
      "Epoch 9/30\n",
      "60000/60000 [==============================] - 19s 323us/sample - loss: 0.2525 - acc: 0.9057 - val_loss: 0.3379 - val_acc: 0.8843\n",
      "Epoch 10/30\n",
      "60000/60000 [==============================] - 13s 223us/sample - loss: 0.2424 - acc: 0.9093 - val_loss: 0.3520 - val_acc: 0.8844\n",
      "Epoch 11/30\n",
      "60000/60000 [==============================] - 10s 168us/sample - loss: 0.2367 - acc: 0.9112 - val_loss: 0.3616 - val_acc: 0.8900\n",
      "Epoch 12/30\n",
      "60000/60000 [==============================] - 11s 177us/sample - loss: 0.2273 - acc: 0.9154 - val_loss: 0.3668 - val_acc: 0.8783\n",
      "Epoch 13/30\n",
      "60000/60000 [==============================] - 10s 170us/sample - loss: 0.2201 - acc: 0.9173 - val_loss: 0.3379 - val_acc: 0.8913\n",
      "Epoch 14/30\n",
      "60000/60000 [==============================] - 11s 178us/sample - loss: 0.2133 - acc: 0.9204 - val_loss: 0.3379 - val_acc: 0.8882\n",
      "Epoch 15/30\n",
      "60000/60000 [==============================] - 10s 165us/sample - loss: 0.2079 - acc: 0.9214 - val_loss: 0.3540 - val_acc: 0.8882\n",
      "Epoch 16/30\n",
      "60000/60000 [==============================] - 10s 168us/sample - loss: 0.2023 - acc: 0.9233 - val_loss: 0.3706 - val_acc: 0.8861\n",
      "Epoch 17/30\n",
      "60000/60000 [==============================] - 10s 165us/sample - loss: 0.1980 - acc: 0.9261 - val_loss: 0.3425 - val_acc: 0.8868\n",
      "Epoch 18/30\n",
      "60000/60000 [==============================] - 10s 171us/sample - loss: 0.1917 - acc: 0.9283 - val_loss: 0.3519 - val_acc: 0.8890\n",
      "Epoch 19/30\n",
      "60000/60000 [==============================] - 13s 208us/sample - loss: 0.1868 - acc: 0.9299 - val_loss: 0.3660 - val_acc: 0.8877\n",
      "Epoch 20/30\n",
      "60000/60000 [==============================] - 12s 193us/sample - loss: 0.1828 - acc: 0.9314 - val_loss: 0.3810 - val_acc: 0.8868\n",
      "Epoch 21/30\n",
      "60000/60000 [==============================] - 12s 200us/sample - loss: 0.1800 - acc: 0.9319 - val_loss: 0.3682 - val_acc: 0.8888\n",
      "Epoch 22/30\n",
      "60000/60000 [==============================] - 13s 214us/sample - loss: 0.1746 - acc: 0.9333 - val_loss: 0.3733 - val_acc: 0.8887\n",
      "Epoch 23/30\n",
      "60000/60000 [==============================] - 11s 185us/sample - loss: 0.1694 - acc: 0.9359 - val_loss: 0.3759 - val_acc: 0.8876\n",
      "Epoch 24/30\n",
      "60000/60000 [==============================] - 11s 179us/sample - loss: 0.1673 - acc: 0.9368 - val_loss: 0.3892 - val_acc: 0.8827\n",
      "Epoch 25/30\n",
      "60000/60000 [==============================] - 10s 175us/sample - loss: 0.1630 - acc: 0.9376 - val_loss: 0.3751 - val_acc: 0.8908\n",
      "Epoch 26/30\n",
      "60000/60000 [==============================] - 11s 182us/sample - loss: 0.1575 - acc: 0.9408 - val_loss: 0.4028 - val_acc: 0.8896\n",
      "Epoch 27/30\n",
      "60000/60000 [==============================] - 12s 198us/sample - loss: 0.1559 - acc: 0.9412 - val_loss: 0.4054 - val_acc: 0.8849\n",
      "Epoch 28/30\n",
      "60000/60000 [==============================] - 11s 187us/sample - loss: 0.1527 - acc: 0.9421 - val_loss: 0.3985 - val_acc: 0.8875\n",
      "Epoch 29/30\n",
      "60000/60000 [==============================] - 11s 188us/sample - loss: 0.1519 - acc: 0.9433 - val_loss: 0.4033 - val_acc: 0.8873\n",
      "Epoch 30/30\n",
      "60000/60000 [==============================] - 12s 207us/sample - loss: 0.1482 - acc: 0.9438 - val_loss: 0.4221 - val_acc: 0.8852\n"
     ]
    },
    {
     "data": {
      "text/plain": [
       "<tensorflow.python.keras.callbacks.History at 0x189332fcf28>"
      ]
     },
     "execution_count": 59,
     "metadata": {},
     "output_type": "execute_result"
    }
   ],
   "source": [
    "model.fit(trainX,trainY,          \n",
    "          validation_data=(testX,testY),\n",
    "          epochs=30,\n",
    "          batch_size=32)"
   ]
  },
  {
   "cell_type": "markdown",
   "metadata": {
    "colab_type": "text",
    "id": "Nr2YsZV0OIV0",
    "slideshow": {
     "slide_type": "slide"
    }
   },
   "source": [
    "## Review model"
   ]
  },
  {
   "cell_type": "code",
   "execution_count": 60,
   "metadata": {
    "colab": {},
    "colab_type": "code",
    "id": "h4ojW6-oOIV2"
   },
   "outputs": [
    {
     "name": "stdout",
     "output_type": "stream",
     "text": [
      "Model: \"sequential_4\"\n",
      "_________________________________________________________________\n",
      "Layer (type)                 Output Shape              Param #   \n",
      "=================================================================\n",
      "reshape_4 (Reshape)          (None, 784)               0         \n",
      "_________________________________________________________________\n",
      "batch_normalization_4 (Batch (None, 784)               3136      \n",
      "_________________________________________________________________\n",
      "dense_5 (Dense)              (None, 100)               78500     \n",
      "_________________________________________________________________\n",
      "dense_6 (Dense)              (None, 100)               10100     \n",
      "_________________________________________________________________\n",
      "dense_7 (Dense)              (None, 10)                1010      \n",
      "=================================================================\n",
      "Total params: 92,746\n",
      "Trainable params: 91,178\n",
      "Non-trainable params: 1,568\n",
      "_________________________________________________________________\n"
     ]
    }
   ],
   "source": [
    "model.summary()"
   ]
  },
  {
   "cell_type": "markdown",
   "metadata": {
    "colab_type": "text",
    "id": "gfFGmbZLOIV5",
    "slideshow": {
     "slide_type": "slide"
    }
   },
   "source": [
    "### Run the model"
   ]
  },
  {
   "cell_type": "code",
   "execution_count": 61,
   "metadata": {
    "colab": {},
    "colab_type": "code",
    "id": "bIkbMEN5OIV7"
   },
   "outputs": [
    {
     "name": "stdout",
     "output_type": "stream",
     "text": [
      "Train on 60000 samples, validate on 10000 samples\n",
      "Epoch 1/30\n",
      "60000/60000 [==============================] - 11s 183us/sample - loss: 0.1461 - acc: 0.9442 - val_loss: 0.4076 - val_acc: 0.8896\n",
      "Epoch 2/30\n",
      "60000/60000 [==============================] - 10s 175us/sample - loss: 0.1397 - acc: 0.9472 - val_loss: 0.4009 - val_acc: 0.8896\n",
      "Epoch 3/30\n",
      "60000/60000 [==============================] - 15s 250us/sample - loss: 0.1364 - acc: 0.9489 - val_loss: 0.4125 - val_acc: 0.8888\n",
      "Epoch 4/30\n",
      "60000/60000 [==============================] - 17s 276us/sample - loss: 0.1362 - acc: 0.9488 - val_loss: 0.3954 - val_acc: 0.8900\n",
      "Epoch 5/30\n",
      "60000/60000 [==============================] - 28s 471us/sample - loss: 0.1337 - acc: 0.9496 - val_loss: 0.4175 - val_acc: 0.8882\n",
      "Epoch 6/30\n",
      "60000/60000 [==============================] - 15s 250us/sample - loss: 0.1310 - acc: 0.9490 - val_loss: 0.4171 - val_acc: 0.8909\n",
      "Epoch 7/30\n",
      "60000/60000 [==============================] - 11s 188us/sample - loss: 0.1289 - acc: 0.9512 - val_loss: 0.4330 - val_acc: 0.8907\n",
      "Epoch 8/30\n",
      "60000/60000 [==============================] - 11s 191us/sample - loss: 0.1268 - acc: 0.9536 - val_loss: 0.4014 - val_acc: 0.8907\n",
      "Epoch 9/30\n",
      "60000/60000 [==============================] - 12s 196us/sample - loss: 0.1231 - acc: 0.9535 - val_loss: 0.4389 - val_acc: 0.8884\n",
      "Epoch 10/30\n",
      "60000/60000 [==============================] - 11s 191us/sample - loss: 0.1224 - acc: 0.9543 - val_loss: 0.4592 - val_acc: 0.8910\n",
      "Epoch 11/30\n",
      "60000/60000 [==============================] - 11s 186us/sample - loss: 0.1200 - acc: 0.9542 - val_loss: 0.4342 - val_acc: 0.8918\n",
      "Epoch 12/30\n",
      "60000/60000 [==============================] - 12s 202us/sample - loss: 0.1189 - acc: 0.9543 - val_loss: 0.4360 - val_acc: 0.8898\n",
      "Epoch 13/30\n",
      "60000/60000 [==============================] - 12s 192us/sample - loss: 0.1160 - acc: 0.9563 - val_loss: 0.4368 - val_acc: 0.8886\n",
      "Epoch 14/30\n",
      "60000/60000 [==============================] - 12s 208us/sample - loss: 0.1151 - acc: 0.9564 - val_loss: 0.4933 - val_acc: 0.8840\n",
      "Epoch 15/30\n",
      "60000/60000 [==============================] - 12s 192us/sample - loss: 0.1132 - acc: 0.9572 - val_loss: 0.4462 - val_acc: 0.8902\n",
      "Epoch 16/30\n",
      "60000/60000 [==============================] - 11s 191us/sample - loss: 0.1125 - acc: 0.9577 - val_loss: 0.4410 - val_acc: 0.8915\n",
      "Epoch 17/30\n",
      "60000/60000 [==============================] - 11s 189us/sample - loss: 0.1086 - acc: 0.9593 - val_loss: 0.4543 - val_acc: 0.8894\n",
      "Epoch 18/30\n",
      "60000/60000 [==============================] - 11s 189us/sample - loss: 0.1074 - acc: 0.9598 - val_loss: 0.5062 - val_acc: 0.8896\n",
      "Epoch 19/30\n",
      "60000/60000 [==============================] - 12s 206us/sample - loss: 0.1085 - acc: 0.9602 - val_loss: 0.5006 - val_acc: 0.8870\n",
      "Epoch 20/30\n",
      "60000/60000 [==============================] - 14s 239us/sample - loss: 0.1067 - acc: 0.9596 - val_loss: 0.4703 - val_acc: 0.8856\n",
      "Epoch 21/30\n",
      "60000/60000 [==============================] - 15s 253us/sample - loss: 0.1011 - acc: 0.9621 - val_loss: 0.4601 - val_acc: 0.8892\n",
      "Epoch 22/30\n",
      "60000/60000 [==============================] - 13s 211us/sample - loss: 0.1029 - acc: 0.9607 - val_loss: 0.4984 - val_acc: 0.8843\n",
      "Epoch 23/30\n",
      "60000/60000 [==============================] - 11s 184us/sample - loss: 0.1036 - acc: 0.9614 - val_loss: 0.5129 - val_acc: 0.8869\n",
      "Epoch 24/30\n",
      "60000/60000 [==============================] - 11s 181us/sample - loss: 0.1001 - acc: 0.9628 - val_loss: 0.4593 - val_acc: 0.8884\n",
      "Epoch 25/30\n",
      "60000/60000 [==============================] - 11s 192us/sample - loss: 0.0988 - acc: 0.9638 - val_loss: 0.4743 - val_acc: 0.8924\n",
      "Epoch 26/30\n",
      "60000/60000 [==============================] - 15s 245us/sample - loss: 0.0998 - acc: 0.9624 - val_loss: 0.4778 - val_acc: 0.8864\n",
      "Epoch 27/30\n",
      "60000/60000 [==============================] - 13s 217us/sample - loss: 0.0951 - acc: 0.9643 - val_loss: 0.5133 - val_acc: 0.8857\n",
      "Epoch 28/30\n",
      "60000/60000 [==============================] - 31s 522us/sample - loss: 0.0982 - acc: 0.9633 - val_loss: 0.4866 - val_acc: 0.8894\n",
      "Epoch 29/30\n",
      "60000/60000 [==============================] - 21s 350us/sample - loss: 0.0933 - acc: 0.9654 - val_loss: 0.4820 - val_acc: 0.8926\n",
      "Epoch 30/30\n",
      "60000/60000 [==============================] - 13s 210us/sample - loss: 0.0936 - acc: 0.9654 - val_loss: 0.4823 - val_acc: 0.8899\n"
     ]
    },
    {
     "data": {
      "text/plain": [
       "<tensorflow.python.keras.callbacks.History at 0x18921c0b240>"
      ]
     },
     "execution_count": 61,
     "metadata": {},
     "output_type": "execute_result"
    }
   ],
   "source": [
    "model.fit(trainX,trainY,          \n",
    "          validation_data=(testX,testY),\n",
    "          epochs=30,\n",
    "          batch_size=32)"
   ]
  },
  {
   "cell_type": "code",
   "execution_count": 62,
   "metadata": {},
   "outputs": [],
   "source": [
    "\n",
    "predictions = model.predict(testX)"
   ]
  },
  {
   "cell_type": "code",
   "execution_count": 68,
   "metadata": {},
   "outputs": [
    {
     "data": {
      "text/plain": [
       "array([3.6893232e-11, 6.6679709e-12, 3.8262224e-13, 1.7350769e-12,\n",
       "       3.9627017e-12, 1.7092894e-07, 3.4090569e-13, 6.2749248e-05,\n",
       "       3.5417988e-12, 9.9993706e-01], dtype=float32)"
      ]
     },
     "execution_count": 68,
     "metadata": {},
     "output_type": "execute_result"
    }
   ],
   "source": [
    "#first prediction\n",
    "predictions[0]"
   ]
  },
  {
   "cell_type": "code",
   "execution_count": 69,
   "metadata": {},
   "outputs": [
    {
     "data": {
      "text/plain": [
       "9"
      ]
     },
     "execution_count": 69,
     "metadata": {},
     "output_type": "execute_result"
    }
   ],
   "source": [
    "import numpy as np\n",
    "np.argmax(predictions[0])"
   ]
  },
  {
   "cell_type": "code",
   "execution_count": 66,
   "metadata": {},
   "outputs": [
    {
     "data": {
      "text/plain": [
       "array([[3.68932315e-11, 6.66797086e-12, 3.82622238e-13, ...,\n",
       "        6.27492482e-05, 3.54179880e-12, 9.99937057e-01],\n",
       "       [1.19078996e-08, 1.07819878e-19, 9.99999404e-01, ...,\n",
       "        6.72008751e-15, 1.19145814e-15, 4.14933945e-17],\n",
       "       [2.49196415e-14, 1.00000000e+00, 7.35488449e-16, ...,\n",
       "        1.06726182e-18, 2.63637708e-16, 2.46665143e-17],\n",
       "       ...,\n",
       "       [2.39170305e-07, 5.56493076e-16, 3.33288258e-11, ...,\n",
       "        1.12801313e-11, 9.99997139e-01, 7.09331000e-17],\n",
       "       [1.06223962e-14, 1.00000000e+00, 1.22698709e-18, ...,\n",
       "        1.98595208e-18, 3.63675544e-15, 8.48150963e-14],\n",
       "       [3.39252068e-07, 4.55974032e-07, 2.98757300e-06, ...,\n",
       "        3.89671943e-04, 1.86946380e-07, 1.19538530e-08]], dtype=float32)"
      ]
     },
     "execution_count": 66,
     "metadata": {},
     "output_type": "execute_result"
    }
   ],
   "source": [
    "ypredict=model.predict(testX)\n",
    "ypredict"
   ]
  },
  {
   "cell_type": "code",
   "execution_count": null,
   "metadata": {},
   "outputs": [],
   "source": []
  }
 ],
 "metadata": {
  "colab": {
   "name": "Classification_F-MNIST.ipynb",
   "provenance": [],
   "version": "0.3.2"
  },
  "kernelspec": {
   "display_name": "Python 3",
   "language": "python",
   "name": "python3"
  },
  "language_info": {
   "codemirror_mode": {
    "name": "ipython",
    "version": 3
   },
   "file_extension": ".py",
   "mimetype": "text/x-python",
   "name": "python",
   "nbconvert_exporter": "python",
   "pygments_lexer": "ipython3",
   "version": "3.7.3"
  }
 },
 "nbformat": 4,
 "nbformat_minor": 1
}
